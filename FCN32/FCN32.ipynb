{
  "nbformat": 4,
  "nbformat_minor": 0,
  "metadata": {
    "colab": {
      "name": "FCN32.ipynb",
      "provenance": [],
      "collapsed_sections": [
        "ZdsF4KsOPR_n",
        "y1eIxDB7O9IG",
        "dhNZkbFWPDm8",
        "YYIJ50CkPHKf",
        "zl9kfvfFPKCj",
        "L7QF8myc93-j",
        "uP6IAz9F95WF"
      ],
      "toc_visible": true,
      "machine_shape": "hm"
    },
    "kernelspec": {
      "name": "python3",
      "display_name": "Python 3"
    },
    "accelerator": "GPU"
  },
  "cells": [
    {
      "cell_type": "markdown",
      "metadata": {
        "id": "Z5C8wy3_9gRi",
        "colab_type": "text"
      },
      "source": [
        "# Semantic Segmentation\n",
        "Implementation of FCN-32s architecture for semantic segmentation.\n",
        "\n",
        "[Paper](https://people.eecs.berkeley.edu/~jonlong/long_shelhamer_fcn.pdf)"
      ]
    },
    {
      "cell_type": "markdown",
      "metadata": {
        "id": "nn_O0e4f9mDV",
        "colab_type": "text"
      },
      "source": [
        "## Architecture\n",
        "\n",
        "- VGG16\n",
        "\n",
        "- Conv2D, 7x7, 4096, relu, same\n",
        "\n",
        "- Dropout 0.5\n",
        "\n",
        "- Conv2D, 1x1, 4096, relu, same\n",
        "\n",
        "- Dropout 0.5\n",
        "\n",
        "- Conv2D nb_classes 1x1\n",
        "\n",
        "- x = Conv2DTranspose(filters=nb_classes, kernel_size=(64, 64), strides=(33, 32), padding='same', activation='sigmoid')(x)\n",
        "\n",
        "- Cropping2D"
      ]
    },
    {
      "cell_type": "markdown",
      "metadata": {
        "id": "ZdsF4KsOPR_n",
        "colab_type": "text"
      },
      "source": [
        "## Set-up"
      ]
    },
    {
      "cell_type": "code",
      "metadata": {
        "id": "0os7QKLUdZv4",
        "colab_type": "code",
        "colab": {}
      },
      "source": [
        "import warnings\n",
        "warnings.simplefilter(action='ignore', category=FutureWarning)"
      ],
      "execution_count": 0,
      "outputs": []
    },
    {
      "cell_type": "code",
      "metadata": {
        "id": "NSe8zAotK9LS",
        "colab_type": "code",
        "outputId": "06793646-e976-4b13-f6bb-a452d6893d97",
        "colab": {
          "base_uri": "https://localhost:8080/",
          "height": 63
        }
      },
      "source": [
        "import random\n",
        "import numpy as np\n",
        "import tensorflow as tf\n",
        "\n",
        "seed = 42\n",
        "np.random.seed(seed)\n",
        "random.seed(seed)\n",
        "tf.set_random_seed(seed)"
      ],
      "execution_count": 0,
      "outputs": [
        {
          "output_type": "display_data",
          "data": {
            "text/html": [
              "<p style=\"color: red;\">\n",
              "The default version of TensorFlow in Colab will soon switch to TensorFlow 2.x.<br>\n",
              "We recommend you <a href=\"https://www.tensorflow.org/guide/migrate\" target=\"_blank\">upgrade</a> now \n",
              "or ensure your notebook will continue to use TensorFlow 1.x via the <code>%tensorflow_version 1.x</code> magic:\n",
              "<a href=\"https://colab.research.google.com/notebooks/tensorflow_version.ipynb\" target=\"_blank\">more info</a>.</p>\n"
            ],
            "text/plain": [
              "<IPython.core.display.HTML object>"
            ]
          },
          "metadata": {
            "tags": []
          }
        }
      ]
    },
    {
      "cell_type": "markdown",
      "metadata": {
        "id": "y1eIxDB7O9IG",
        "colab_type": "text"
      },
      "source": [
        "## Data"
      ]
    },
    {
      "cell_type": "code",
      "metadata": {
        "id": "_NsZ5pvK9s4D",
        "colab_type": "code",
        "colab": {}
      },
      "source": [
        "!wget https://www.mimuw.edu.pl/~bilinski/VRNN2019/labs/datasets/segmentation.npz  > /dev/null 2>&1"
      ],
      "execution_count": 0,
      "outputs": []
    },
    {
      "cell_type": "code",
      "metadata": {
        "id": "xAWselwd9unJ",
        "colab_type": "code",
        "colab": {}
      },
      "source": [
        "# Data is already preprocessed for VGG16\n",
        "data = np.load('segmentation.npz')\n",
        "x_train, y_train, x_test, y_test = data['train_x'], data['train_y'], data['test_x'], data['test_y']\n",
        "del data"
      ],
      "execution_count": 0,
      "outputs": []
    },
    {
      "cell_type": "markdown",
      "metadata": {
        "id": "dhNZkbFWPDm8",
        "colab_type": "text"
      },
      "source": [
        "## Model"
      ]
    },
    {
      "cell_type": "code",
      "metadata": {
        "id": "EMFGqXaNKjzL",
        "colab_type": "code",
        "colab": {}
      },
      "source": [
        "from tensorflow.keras.applications.vgg16 import VGG16\n",
        "from tensorflow.keras.models import Model\n",
        "from tensorflow.keras.layers import Input, Conv2D, Dropout, Conv2DTranspose, Cropping2D, Dense\n",
        "\n",
        "\n",
        "def FCN32_VGG16(input_shape, n_classes):\n",
        "    inputs = Input(shape=input_shape)\n",
        "    vgg16 = VGG16(weights='imagenet', include_top=False, input_tensor=inputs)\n",
        "\n",
        "    conv1 = Conv2D(filters=4096, kernel_size=(7, 7), activation='relu', padding='same')(vgg16.output)\n",
        "    drop1 = Dropout(0.5)(conv1)\n",
        "\n",
        "    conv2 = Conv2D(filters=4096, kernel_size=(1, 1), activation='relu', padding='same')(drop1)\n",
        "    drop2 = Dropout(0.5)(conv2)\n",
        "\n",
        "    conv3 = Conv2D(filters=n_classes, kernel_size=(1, 1))(drop2)\n",
        "    out = Conv2DTranspose(filters=n_classes, kernel_size=(64, 64), strides=(33, 32), padding='same', activation='sigmoid')(conv3)\n",
        "    out = Cropping2D(cropping=((2, 1), (0, 0)))(out)\n",
        "\n",
        "    model = Model(inputs=inputs, outputs=out, name='FCN32_VGG16')\n",
        "\n",
        "    return model"
      ],
      "execution_count": 0,
      "outputs": []
    },
    {
      "cell_type": "code",
      "metadata": {
        "id": "FpN2J9TsJTnw",
        "colab_type": "code",
        "outputId": "34fc5f6e-a9af-44df-e481-7fbd5d635388",
        "colab": {
          "base_uri": "https://localhost:8080/",
          "height": 88
        }
      },
      "source": [
        "from tensorflow.keras.metrics import MeanIoU\n",
        "from tensorflow.keras.optimizers import Adadelta\n",
        "\n",
        "input_shape = x_train.shape[1:]\n",
        "n_classes = y_train.shape[3]\n",
        "disabled_layers = 15\n",
        "\n",
        "model = FCN32_VGG16(input_shape, n_classes)\n",
        "\n",
        "for layer in model.layers[:disabled_layers]:\n",
        "    layer.trainable = False\n",
        "\n",
        "model.compile(optimizer=Adadelta(learning_rate=0.5), loss='categorical_crossentropy', metrics=['accuracy', MeanIoU(n_classes)])"
      ],
      "execution_count": 0,
      "outputs": [
        {
          "output_type": "stream",
          "text": [
            "WARNING:tensorflow:From /usr/local/lib/python3.6/dist-packages/tensorflow_core/python/ops/resource_variable_ops.py:1630: calling BaseResourceVariable.__init__ (from tensorflow.python.ops.resource_variable_ops) with constraint is deprecated and will be removed in a future version.\n",
            "Instructions for updating:\n",
            "If using Keras pass *_constraint arguments to layers.\n"
          ],
          "name": "stdout"
        }
      ]
    },
    {
      "cell_type": "code",
      "metadata": {
        "id": "DZsRR8nHKSJe",
        "colab_type": "code",
        "outputId": "c869cac1-f748-48d7-8fff-e23691ca4597",
        "colab": {
          "base_uri": "https://localhost:8080/",
          "height": 1000
        }
      },
      "source": [
        "print(model.summary())\n",
        "\n",
        "print('\\nTrainable status:')\n",
        "for layer in model.layers:\n",
        "    print(layer.name, layer.trainable)"
      ],
      "execution_count": 0,
      "outputs": [
        {
          "output_type": "stream",
          "text": [
            "Model: \"FCN32_VGG16\"\n",
            "_________________________________________________________________\n",
            "Layer (type)                 Output Shape              Param #   \n",
            "=================================================================\n",
            "input_1 (InputLayer)         [(None, 360, 480, 3)]     0         \n",
            "_________________________________________________________________\n",
            "block1_conv1 (Conv2D)        (None, 360, 480, 64)      1792      \n",
            "_________________________________________________________________\n",
            "block1_conv2 (Conv2D)        (None, 360, 480, 64)      36928     \n",
            "_________________________________________________________________\n",
            "block1_pool (MaxPooling2D)   (None, 180, 240, 64)      0         \n",
            "_________________________________________________________________\n",
            "block2_conv1 (Conv2D)        (None, 180, 240, 128)     73856     \n",
            "_________________________________________________________________\n",
            "block2_conv2 (Conv2D)        (None, 180, 240, 128)     147584    \n",
            "_________________________________________________________________\n",
            "block2_pool (MaxPooling2D)   (None, 90, 120, 128)      0         \n",
            "_________________________________________________________________\n",
            "block3_conv1 (Conv2D)        (None, 90, 120, 256)      295168    \n",
            "_________________________________________________________________\n",
            "block3_conv2 (Conv2D)        (None, 90, 120, 256)      590080    \n",
            "_________________________________________________________________\n",
            "block3_conv3 (Conv2D)        (None, 90, 120, 256)      590080    \n",
            "_________________________________________________________________\n",
            "block3_pool (MaxPooling2D)   (None, 45, 60, 256)       0         \n",
            "_________________________________________________________________\n",
            "block4_conv1 (Conv2D)        (None, 45, 60, 512)       1180160   \n",
            "_________________________________________________________________\n",
            "block4_conv2 (Conv2D)        (None, 45, 60, 512)       2359808   \n",
            "_________________________________________________________________\n",
            "block4_conv3 (Conv2D)        (None, 45, 60, 512)       2359808   \n",
            "_________________________________________________________________\n",
            "block4_pool (MaxPooling2D)   (None, 22, 30, 512)       0         \n",
            "_________________________________________________________________\n",
            "block5_conv1 (Conv2D)        (None, 22, 30, 512)       2359808   \n",
            "_________________________________________________________________\n",
            "block5_conv2 (Conv2D)        (None, 22, 30, 512)       2359808   \n",
            "_________________________________________________________________\n",
            "block5_conv3 (Conv2D)        (None, 22, 30, 512)       2359808   \n",
            "_________________________________________________________________\n",
            "block5_pool (MaxPooling2D)   (None, 11, 15, 512)       0         \n",
            "_________________________________________________________________\n",
            "conv2d (Conv2D)              (None, 11, 15, 4096)      102764544 \n",
            "_________________________________________________________________\n",
            "dropout (Dropout)            (None, 11, 15, 4096)      0         \n",
            "_________________________________________________________________\n",
            "conv2d_1 (Conv2D)            (None, 11, 15, 4096)      16781312  \n",
            "_________________________________________________________________\n",
            "dropout_1 (Dropout)          (None, 11, 15, 4096)      0         \n",
            "_________________________________________________________________\n",
            "conv2d_2 (Conv2D)            (None, 11, 15, 12)        49164     \n",
            "_________________________________________________________________\n",
            "conv2d_transpose (Conv2DTran (None, 363, 480, 12)      589836    \n",
            "_________________________________________________________________\n",
            "cropping2d (Cropping2D)      (None, 360, 480, 12)      0         \n",
            "=================================================================\n",
            "Total params: 134,899,544\n",
            "Trainable params: 127,264,280\n",
            "Non-trainable params: 7,635,264\n",
            "_________________________________________________________________\n",
            "None\n",
            "\n",
            "Trainable status:\n",
            "input_1 False\n",
            "block1_conv1 False\n",
            "block1_conv2 False\n",
            "block1_pool False\n",
            "block2_conv1 False\n",
            "block2_conv2 False\n",
            "block2_pool False\n",
            "block3_conv1 False\n",
            "block3_conv2 False\n",
            "block3_conv3 False\n",
            "block3_pool False\n",
            "block4_conv1 False\n",
            "block4_conv2 False\n",
            "block4_conv3 False\n",
            "block4_pool False\n",
            "block5_conv1 True\n",
            "block5_conv2 True\n",
            "block5_conv3 True\n",
            "block5_pool True\n",
            "conv2d True\n",
            "dropout True\n",
            "conv2d_1 True\n",
            "dropout_1 True\n",
            "conv2d_2 True\n",
            "conv2d_transpose True\n",
            "cropping2d True\n"
          ],
          "name": "stdout"
        }
      ]
    },
    {
      "cell_type": "markdown",
      "metadata": {
        "id": "YYIJ50CkPHKf",
        "colab_type": "text"
      },
      "source": [
        "## DataGenerator"
      ]
    },
    {
      "cell_type": "code",
      "metadata": {
        "id": "x4X0D5__5UOp",
        "colab_type": "code",
        "colab": {}
      },
      "source": [
        "from tensorflow.keras.utils import Sequence\n",
        "\n",
        "class DataGenerator(Sequence):\n",
        "    def __init__(self, x, y, batch_size, shuffle=False):\n",
        "        self.x, self.y = x, y\n",
        "        self.batch_size = batch_size\n",
        "        self.indices = np.arange(len(self.x))\n",
        "        self.shuffle = shuffle\n",
        "    \n",
        "    def __len__(self):\n",
        "        'Denotes the number of batches per epoch'\n",
        "        return int(self.x.shape[0] // self.batch_size)\n",
        "\n",
        "    def __getitem__(self, index):\n",
        "        'Generates one batch of data'\n",
        "        batch_indices = self.indices[index * self.batch_size: (index + 1) * self.batch_size]\n",
        "        batch_x = self.x[batch_indices]\n",
        "        batch_y = self.y[batch_indices]\n",
        "        return batch_x, batch_y\n",
        "\n",
        "    def on_epoch_end(self):\n",
        "        self.indices = np.arange(len(self.x))\n",
        "        if self.shuffle:\n",
        "            np.random.shuffle(self.indices)\n",
        "\n",
        "\n",
        "class DataGeneratorSimple(Sequence):\n",
        "    def __init__(self, x, y, batch_size):\n",
        "        self.x = x\n",
        "        self.y = y\n",
        "        self.batch_size = batch_size\n",
        "    \n",
        "    def __len__(self):\n",
        "        'Denotes the number of batches per epoch'\n",
        "        return int(self.x.shape[0] // self.batch_size)\n",
        "\n",
        "    def __getitem__(self, index):\n",
        "        'Generates one batch of data'\n",
        "        batch_x = self.x[index * self.batch_size: (index + 1) * self.batch_size]\n",
        "        batch_y = self.y[index * self.batch_size: (index + 1) * self.batch_size]\n",
        "        return batch_x, batch_y"
      ],
      "execution_count": 0,
      "outputs": []
    },
    {
      "cell_type": "markdown",
      "metadata": {
        "id": "zl9kfvfFPKCj",
        "colab_type": "text"
      },
      "source": [
        "## Training"
      ]
    },
    {
      "cell_type": "code",
      "metadata": {
        "id": "rEeEg90H9wrG",
        "colab_type": "code",
        "outputId": "241efb00-fb5a-4000-c523-18b3f6986d5f",
        "colab": {
          "base_uri": "https://localhost:8080/",
          "height": 1000
        }
      },
      "source": [
        "batch_size = 3\n",
        "epochs = 20\n",
        "\n",
        "model.fit_generator(DataGenerator(x_train, y_train, batch_size, shuffle=True), \n",
        "                    epochs=epochs,\n",
        "                    validation_data=(x_test, y_test))"
      ],
      "execution_count": 0,
      "outputs": [
        {
          "output_type": "stream",
          "text": [
            "Epoch 1/20\n",
            "WARNING:tensorflow:From /usr/local/lib/python3.6/dist-packages/tensorflow_core/python/ops/math_grad.py:1424: where (from tensorflow.python.ops.array_ops) is deprecated and will be removed in a future version.\n",
            "Instructions for updating:\n",
            "Use tf.where in 2.0, which has the same broadcast rule as np.where\n",
            "121/122 [============================>.] - ETA: 0s - loss: 1.4054 - acc: 0.5234 - mean_io_u: 0.5259Epoch 1/20\n",
            "122/122 [==============================] - 40s 325ms/step - loss: 1.4026 - acc: 0.5239 - mean_io_u: 0.5255 - val_loss: 1.0977 - val_acc: 0.5520 - val_mean_io_u: 0.4621\n",
            "Epoch 2/20\n",
            "121/122 [============================>.] - ETA: 0s - loss: 0.7721 - acc: 0.6921 - mean_io_u: 0.4698Epoch 1/20\n",
            "122/122 [==============================] - 33s 274ms/step - loss: 0.7697 - acc: 0.6934 - mean_io_u: 0.4697 - val_loss: 0.6597 - val_acc: 0.8139 - val_mean_io_u: 0.4584\n",
            "Epoch 3/20\n",
            "121/122 [============================>.] - ETA: 0s - loss: 0.5370 - acc: 0.8297 - mean_io_u: 0.4593Epoch 1/20\n",
            "122/122 [==============================] - 33s 274ms/step - loss: 0.5365 - acc: 0.8299 - mean_io_u: 0.4593 - val_loss: 0.5104 - val_acc: 0.8390 - val_mean_io_u: 0.4583\n",
            "Epoch 4/20\n",
            "121/122 [============================>.] - ETA: 0s - loss: 0.4560 - acc: 0.8545 - mean_io_u: 0.4589Epoch 1/20\n",
            "122/122 [==============================] - 34s 275ms/step - loss: 0.4547 - acc: 0.8549 - mean_io_u: 0.4589 - val_loss: 0.4400 - val_acc: 0.8568 - val_mean_io_u: 0.4585\n",
            "Epoch 5/20\n",
            "121/122 [============================>.] - ETA: 0s - loss: 0.3941 - acc: 0.8715 - mean_io_u: 0.4589Epoch 1/20\n",
            "122/122 [==============================] - 34s 275ms/step - loss: 0.3928 - acc: 0.8719 - mean_io_u: 0.4589 - val_loss: 0.4168 - val_acc: 0.8616 - val_mean_io_u: 0.4584\n",
            "Epoch 6/20\n",
            "121/122 [============================>.] - ETA: 0s - loss: 0.3537 - acc: 0.8824 - mean_io_u: 0.4586Epoch 1/20\n",
            "122/122 [==============================] - 33s 274ms/step - loss: 0.3539 - acc: 0.8824 - mean_io_u: 0.4586 - val_loss: 0.4002 - val_acc: 0.8789 - val_mean_io_u: 0.4584\n",
            "Epoch 7/20\n",
            "121/122 [============================>.] - ETA: 0s - loss: 0.3276 - acc: 0.8904 - mean_io_u: 0.4587Epoch 1/20\n",
            "122/122 [==============================] - 34s 275ms/step - loss: 0.3280 - acc: 0.8903 - mean_io_u: 0.4587 - val_loss: 0.3875 - val_acc: 0.8768 - val_mean_io_u: 0.4585\n",
            "Epoch 8/20\n",
            "121/122 [============================>.] - ETA: 0s - loss: 0.3078 - acc: 0.8951 - mean_io_u: 0.4590Epoch 1/20\n",
            "122/122 [==============================] - 33s 273ms/step - loss: 0.3073 - acc: 0.8952 - mean_io_u: 0.4590 - val_loss: 0.3517 - val_acc: 0.8806 - val_mean_io_u: 0.4616\n",
            "Epoch 9/20\n",
            "121/122 [============================>.] - ETA: 0s - loss: 0.2916 - acc: 0.8999 - mean_io_u: 0.4591Epoch 1/20\n",
            "122/122 [==============================] - 33s 270ms/step - loss: 0.2925 - acc: 0.8995 - mean_io_u: 0.4591 - val_loss: 0.4343 - val_acc: 0.8765 - val_mean_io_u: 0.4584\n",
            "Epoch 10/20\n",
            "121/122 [============================>.] - ETA: 0s - loss: 0.2719 - acc: 0.9061 - mean_io_u: 0.4591Epoch 1/20\n",
            "122/122 [==============================] - 33s 273ms/step - loss: 0.2720 - acc: 0.9060 - mean_io_u: 0.4591 - val_loss: 0.3841 - val_acc: 0.8776 - val_mean_io_u: 0.4597\n",
            "Epoch 11/20\n",
            "121/122 [============================>.] - ETA: 0s - loss: 0.2619 - acc: 0.9079 - mean_io_u: 0.4594Epoch 1/20\n",
            "122/122 [==============================] - 33s 273ms/step - loss: 0.2624 - acc: 0.9077 - mean_io_u: 0.4594 - val_loss: 0.3642 - val_acc: 0.8797 - val_mean_io_u: 0.4602\n",
            "Epoch 12/20\n",
            "121/122 [============================>.] - ETA: 0s - loss: 0.2512 - acc: 0.9112 - mean_io_u: 0.4595Epoch 1/20\n",
            "122/122 [==============================] - 33s 274ms/step - loss: 0.2513 - acc: 0.9111 - mean_io_u: 0.4595 - val_loss: 0.3601 - val_acc: 0.8848 - val_mean_io_u: 0.4631\n",
            "Epoch 13/20\n",
            "121/122 [============================>.] - ETA: 0s - loss: 0.2423 - acc: 0.9142 - mean_io_u: 0.4604Epoch 1/20\n",
            "122/122 [==============================] - 34s 276ms/step - loss: 0.2422 - acc: 0.9141 - mean_io_u: 0.4604 - val_loss: 0.3436 - val_acc: 0.8931 - val_mean_io_u: 0.4605\n",
            "Epoch 14/20\n",
            "121/122 [============================>.] - ETA: 0s - loss: 0.2357 - acc: 0.9157 - mean_io_u: 0.4613Epoch 1/20\n",
            "122/122 [==============================] - 34s 275ms/step - loss: 0.2359 - acc: 0.9156 - mean_io_u: 0.4613 - val_loss: 0.3617 - val_acc: 0.8848 - val_mean_io_u: 0.4629\n",
            "Epoch 15/20\n",
            "121/122 [============================>.] - ETA: 0s - loss: 0.2299 - acc: 0.9174 - mean_io_u: 0.4619Epoch 1/20\n",
            "122/122 [==============================] - 33s 274ms/step - loss: 0.2296 - acc: 0.9174 - mean_io_u: 0.4619 - val_loss: 0.3490 - val_acc: 0.8900 - val_mean_io_u: 0.4656\n",
            "Epoch 16/20\n",
            "121/122 [============================>.] - ETA: 0s - loss: 0.2245 - acc: 0.9189 - mean_io_u: 0.4630Epoch 1/20\n",
            "122/122 [==============================] - 33s 274ms/step - loss: 0.2248 - acc: 0.9187 - mean_io_u: 0.4630 - val_loss: 0.3643 - val_acc: 0.8894 - val_mean_io_u: 0.4663\n",
            "Epoch 17/20\n",
            "121/122 [============================>.] - ETA: 0s - loss: 0.2204 - acc: 0.9199 - mean_io_u: 0.4632Epoch 1/20\n",
            "122/122 [==============================] - 34s 277ms/step - loss: 0.2207 - acc: 0.9197 - mean_io_u: 0.4632 - val_loss: 0.3403 - val_acc: 0.8943 - val_mean_io_u: 0.4662\n",
            "Epoch 18/20\n",
            "121/122 [============================>.] - ETA: 0s - loss: 0.2139 - acc: 0.9218 - mean_io_u: 0.4636Epoch 1/20\n",
            "122/122 [==============================] - 33s 273ms/step - loss: 0.2138 - acc: 0.9218 - mean_io_u: 0.4635 - val_loss: 0.3583 - val_acc: 0.8887 - val_mean_io_u: 0.4694\n",
            "Epoch 19/20\n",
            "121/122 [============================>.] - ETA: 0s - loss: 0.2076 - acc: 0.9236 - mean_io_u: 0.4638Epoch 1/20\n",
            "122/122 [==============================] - 34s 277ms/step - loss: 0.2074 - acc: 0.9237 - mean_io_u: 0.4638 - val_loss: 0.3371 - val_acc: 0.8962 - val_mean_io_u: 0.4738\n",
            "Epoch 20/20\n",
            "121/122 [============================>.] - ETA: 0s - loss: 0.2053 - acc: 0.9241 - mean_io_u: 0.4646Epoch 1/20\n",
            "122/122 [==============================] - 33s 272ms/step - loss: 0.2052 - acc: 0.9242 - mean_io_u: 0.4647 - val_loss: 0.3466 - val_acc: 0.8963 - val_mean_io_u: 0.4752\n"
          ],
          "name": "stdout"
        },
        {
          "output_type": "execute_result",
          "data": {
            "text/plain": [
              "<tensorflow.python.keras.callbacks.History at 0x7fc5a00dbd68>"
            ]
          },
          "metadata": {
            "tags": []
          },
          "execution_count": 9
        }
      ]
    },
    {
      "cell_type": "code",
      "metadata": {
        "id": "-IALAS1T9RWY",
        "colab_type": "code",
        "outputId": "2b21bc4e-8e0f-466e-e7d3-2b074f1f5b78",
        "colab": {
          "base_uri": "https://localhost:8080/",
          "height": 286
        }
      },
      "source": [
        "import matplotlib.pyplot as plt\n",
        "pred = model.predict(np.expand_dims(x_test[0], axis=0))[0].argmax(axis=2)\n",
        "plt.imshow(pred)"
      ],
      "execution_count": 0,
      "outputs": [
        {
          "output_type": "execute_result",
          "data": {
            "text/plain": [
              "<matplotlib.image.AxesImage at 0x7fc536760ba8>"
            ]
          },
          "metadata": {
            "tags": []
          },
          "execution_count": 10
        },
        {
          "output_type": "display_data",
          "data": {
            "image/png": "[encoded data removed]",
            "text/plain": [
              "<Figure size 432x288 with 1 Axes>"
            ]
          },
          "metadata": {
            "tags": []
          }
        }
      ]
    },
    {
      "cell_type": "code",
      "metadata": {
        "id": "OeWAFdaa90nC",
        "colab_type": "code",
        "outputId": "14aa6c3c-8cb1-4d9c-d601-6fa115cfcf42",
        "colab": {
          "base_uri": "https://localhost:8080/",
          "height": 286
        }
      },
      "source": [
        "plt.imshow(y_test[0].argmax(axis=2))"
      ],
      "execution_count": 0,
      "outputs": [
        {
          "output_type": "execute_result",
          "data": {
            "text/plain": [
              "<matplotlib.image.AxesImage at 0x7fc536234358>"
            ]
          },
          "metadata": {
            "tags": []
          },
          "execution_count": 11
        },
        {
          "output_type": "display_data",
          "data": {
            "image/png": "[encoded data removed]",
            "text/plain": [
              "<Figure size 432x288 with 1 Axes>"
            ]
          },
          "metadata": {
            "tags": []
          }
        }
      ]
    },
    {
      "cell_type": "markdown",
      "metadata": {
        "id": "L7QF8myc93-j",
        "colab_type": "text"
      },
      "source": [
        "## Save a trained model"
      ]
    },
    {
      "cell_type": "code",
      "metadata": {
        "id": "d0k35lYr2L7E",
        "colab_type": "code",
        "outputId": "7916fa08-872c-441d-9967-03e7567d59d4",
        "colab": {
          "base_uri": "https://localhost:8080/",
          "height": 122
        }
      },
      "source": [
        "from google.colab import drive\n",
        "drive.mount('/content/gdrive')"
      ],
      "execution_count": 0,
      "outputs": [
        {
          "output_type": "stream",
          "text": [
            "Go to this URL in a browser: https://accounts.google.com/o/oauth2/auth?client_id=947318989803-6bn6qk8qdgf4n4g3pfee6491hc0brc4i.apps.googleusercontent.com&redirect_uri=urn%3aietf%3awg%3aoauth%3a2.0%3aoob&response_type=code&scope=email%20https%3a%2f%2fwww.googleapis.com%2fauth%2fdocs.test%20https%3a%2f%2fwww.googleapis.com%2fauth%2fdrive%20https%3a%2f%2fwww.googleapis.com%2fauth%2fdrive.photos.readonly%20https%3a%2f%2fwww.googleapis.com%2fauth%2fpeopleapi.readonly\n",
            "\n",
            "Enter your authorization code:\n",
            "··········\n",
            "Mounted at /content/gdrive\n"
          ],
          "name": "stdout"
        }
      ]
    },
    {
      "cell_type": "code",
      "metadata": {
        "id": "BktloBFF94m-",
        "colab_type": "code",
        "colab": {}
      },
      "source": [
        "model.save('/content/gdrive/My Drive/Machine Learning/fcn32.h5')"
      ],
      "execution_count": 0,
      "outputs": []
    },
    {
      "cell_type": "markdown",
      "metadata": {
        "id": "uP6IAz9F95WF",
        "colab_type": "text"
      },
      "source": [
        "## Load the trained model and evaluate it on the test set"
      ]
    },
    {
      "cell_type": "code",
      "metadata": {
        "id": "MKIXQabI97xO",
        "colab_type": "code",
        "outputId": "44c5af81-51db-43c4-c242-74fe6cc63ebe",
        "colab": {
          "base_uri": "https://localhost:8080/",
          "height": 173
        }
      },
      "source": [
        "from tensorflow.keras.models import load_model\n",
        "\n",
        "model = load_model('/content/gdrive/My Drive/Machine Learning/fcn32.h5')\n",
        "model.evaluate(x_test, y_test)"
      ],
      "execution_count": 0,
      "outputs": [
        {
          "output_type": "stream",
          "text": [
            "WARNING:tensorflow:From /usr/local/lib/python3.6/dist-packages/tensorflow_core/python/ops/init_ops.py:97: calling GlorotUniform.__init__ (from tensorflow.python.ops.init_ops) with dtype is deprecated and will be removed in a future version.\n",
            "Instructions for updating:\n",
            "Call initializer instance with the dtype argument instead of passing it to the constructor\n",
            "WARNING:tensorflow:From /usr/local/lib/python3.6/dist-packages/tensorflow_core/python/ops/init_ops.py:97: calling Zeros.__init__ (from tensorflow.python.ops.init_ops) with dtype is deprecated and will be removed in a future version.\n",
            "Instructions for updating:\n",
            "Call initializer instance with the dtype argument instead of passing it to the constructor\n",
            "101/101 [==============================] - 7s 71ms/sample - loss: 0.3463 - acc: 0.8963 - mean_io_u: 0.4752\n"
          ],
          "name": "stdout"
        },
        {
          "output_type": "execute_result",
          "data": {
            "text/plain": [
              "[0.3462792661520514, 0.89631265, 0.47518826]"
            ]
          },
          "metadata": {
            "tags": []
          },
          "execution_count": 14
        }
      ]
    },
    {
      "cell_type": "markdown",
      "metadata": {
        "id": "1P0HmqOYKfEj",
        "colab_type": "text"
      },
      "source": [
        "### Usefull commands\n",
        "\n",
        "*   !nvidia-smi\n",
        "\n"
      ]
    }
  ]
}