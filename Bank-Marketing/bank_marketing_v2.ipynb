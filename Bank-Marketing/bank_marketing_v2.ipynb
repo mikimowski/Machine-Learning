{
 "cells": [
  {
   "cell_type": "markdown",
   "metadata": {},
   "source": [
    "# Intro\n",
    "The data is related with direct marketing campaigns of a Portuguese banking institution. The marketing campaigns were based on phone calls. Often, more than one contact to the same client was required, in order to access if the product (bank term deposit) would be ('yes') or not ('no') subscribed. <br>\n",
    "https://archive.ics.uci.edu/ml/datasets/bank+marketing"
   ]
  },
  {
   "cell_type": "code",
   "execution_count": 24,
   "metadata": {},
   "outputs": [],
   "source": [
    "import pandas as pd\n",
    "import numpy as np\n",
    "import seaborn as sns\n",
    "import matplotlib.pyplot as plt"
   ]
  },
  {
   "cell_type": "code",
   "execution_count": 25,
   "metadata": {},
   "outputs": [
    {
     "data": {
      "text/html": [
       "<div>\n",
       "<style scoped>\n",
       "    .dataframe tbody tr th:only-of-type {\n",
       "        vertical-align: middle;\n",
       "    }\n",
       "\n",
       "    .dataframe tbody tr th {\n",
       "        vertical-align: top;\n",
       "    }\n",
       "\n",
       "    .dataframe thead th {\n",
       "        text-align: right;\n",
       "    }\n",
       "</style>\n",
       "<table border=\"1\" class=\"dataframe\">\n",
       "  <thead>\n",
       "    <tr style=\"text-align: right;\">\n",
       "      <th></th>\n",
       "      <th>id</th>\n",
       "      <th>birth_date</th>\n",
       "      <th>job</th>\n",
       "      <th>marital</th>\n",
       "      <th>education</th>\n",
       "      <th>default</th>\n",
       "      <th>housing</th>\n",
       "      <th>loan</th>\n",
       "      <th>contact_date</th>\n",
       "      <th>contact</th>\n",
       "      <th>campaign</th>\n",
       "      <th>pdays</th>\n",
       "      <th>previous</th>\n",
       "      <th>poutcome</th>\n",
       "      <th>y</th>\n",
       "    </tr>\n",
       "  </thead>\n",
       "  <tbody>\n",
       "    <tr>\n",
       "      <th>0</th>\n",
       "      <td>1</td>\n",
       "      <td>1952-03-23</td>\n",
       "      <td>housemaid</td>\n",
       "      <td>married</td>\n",
       "      <td>basic.4y</td>\n",
       "      <td>no</td>\n",
       "      <td>no</td>\n",
       "      <td>no</td>\n",
       "      <td>2008-05-12</td>\n",
       "      <td>telephone</td>\n",
       "      <td>1</td>\n",
       "      <td>999</td>\n",
       "      <td>0</td>\n",
       "      <td>nonexistent</td>\n",
       "      <td>no</td>\n",
       "    </tr>\n",
       "    <tr>\n",
       "      <th>1</th>\n",
       "      <td>2</td>\n",
       "      <td>1951-03-24</td>\n",
       "      <td>services</td>\n",
       "      <td>married</td>\n",
       "      <td>high.school</td>\n",
       "      <td>unknown</td>\n",
       "      <td>no</td>\n",
       "      <td>no</td>\n",
       "      <td>2008-05-26</td>\n",
       "      <td>telephone</td>\n",
       "      <td>1</td>\n",
       "      <td>999</td>\n",
       "      <td>0</td>\n",
       "      <td>nonexistent</td>\n",
       "      <td>unknown</td>\n",
       "    </tr>\n",
       "    <tr>\n",
       "      <th>2</th>\n",
       "      <td>3</td>\n",
       "      <td>1971-05-19</td>\n",
       "      <td>services</td>\n",
       "      <td>married</td>\n",
       "      <td>high.school</td>\n",
       "      <td>no</td>\n",
       "      <td>yes</td>\n",
       "      <td>no</td>\n",
       "      <td>2008-05-05</td>\n",
       "      <td>telephone</td>\n",
       "      <td>1</td>\n",
       "      <td>999</td>\n",
       "      <td>0</td>\n",
       "      <td>nonexistent</td>\n",
       "      <td>no</td>\n",
       "    </tr>\n",
       "    <tr>\n",
       "      <th>3</th>\n",
       "      <td>4</td>\n",
       "      <td>1968-01-24</td>\n",
       "      <td>admin.</td>\n",
       "      <td>married</td>\n",
       "      <td>basic.6y</td>\n",
       "      <td>no</td>\n",
       "      <td>no</td>\n",
       "      <td>no</td>\n",
       "      <td>2008-05-19</td>\n",
       "      <td>telephone</td>\n",
       "      <td>1</td>\n",
       "      <td>999</td>\n",
       "      <td>0</td>\n",
       "      <td>nonexistent</td>\n",
       "      <td>unknown</td>\n",
       "    </tr>\n",
       "    <tr>\n",
       "      <th>4</th>\n",
       "      <td>5</td>\n",
       "      <td>1952-05-11</td>\n",
       "      <td>services</td>\n",
       "      <td>married</td>\n",
       "      <td>high.school</td>\n",
       "      <td>no</td>\n",
       "      <td>no</td>\n",
       "      <td>yes</td>\n",
       "      <td>2008-05-19</td>\n",
       "      <td>telephone</td>\n",
       "      <td>1</td>\n",
       "      <td>999</td>\n",
       "      <td>0</td>\n",
       "      <td>nonexistent</td>\n",
       "      <td>unknown</td>\n",
       "    </tr>\n",
       "  </tbody>\n",
       "</table>\n",
       "</div>"
      ],
      "text/plain": [
       "   id  birth_date        job  marital    education  default housing loan  \\\n",
       "0   1  1952-03-23  housemaid  married     basic.4y       no      no   no   \n",
       "1   2  1951-03-24   services  married  high.school  unknown      no   no   \n",
       "2   3  1971-05-19   services  married  high.school       no     yes   no   \n",
       "3   4  1968-01-24     admin.  married     basic.6y       no      no   no   \n",
       "4   5  1952-05-11   services  married  high.school       no      no  yes   \n",
       "\n",
       "  contact_date    contact  campaign  pdays  previous     poutcome        y  \n",
       "0   2008-05-12  telephone         1    999         0  nonexistent       no  \n",
       "1   2008-05-26  telephone         1    999         0  nonexistent  unknown  \n",
       "2   2008-05-05  telephone         1    999         0  nonexistent       no  \n",
       "3   2008-05-19  telephone         1    999         0  nonexistent  unknown  \n",
       "4   2008-05-19  telephone         1    999         0  nonexistent  unknown  "
      ]
     },
     "execution_count": 25,
     "metadata": {},
     "output_type": "execute_result"
    }
   ],
   "source": [
    "# Let's look at our data\n",
    "df = pd.read_csv('data/bank-classification.csv')\n",
    "df.head()"
   ]
  },
  {
   "cell_type": "markdown",
   "metadata": {},
   "source": [
    "### contact_date\n",
    "After analysing the data I have decided to split contact_date into the contact_year, contact_month and contact_day_of_week which brings more information."
   ]
  },
  {
   "cell_type": "code",
   "execution_count": 26,
   "metadata": {},
   "outputs": [],
   "source": [
    "df['contact_year'] = pd.DatetimeIndex(df['contact_date']).year\n",
    "df['contact_month'] = pd.DatetimeIndex(df['contact_date']).month\n",
    "df['contact_day_of_week'] = pd.DatetimeIndex(df['contact_date']).dayofweek\n",
    "df = df.drop(['contact_date'], axis=1)"
   ]
  },
  {
   "cell_type": "code",
   "execution_count": 27,
   "metadata": {},
   "outputs": [
    {
     "data": {
      "image/png": "[encoded data removed]",
      "text/plain": [
       "<Figure size 1584x1008 with 3 Axes>"
      ]
     },
     "metadata": {
      "needs_background": "light"
     },
     "output_type": "display_data"
    }
   ],
   "source": [
    "fig, axis = plt.subplots(3, 1, figsize=(22, 14))\n",
    "\n",
    "p = sns.countplot(x='contact_year', hue='y', data=df.loc[df['y'] != 'unknown'], ax=axis[0])\n",
    "p.get_legend().set_title('label')\n",
    "\n",
    "p = sns.countplot(x='contact_month', hue='y', data=df.loc[df['y'] != 'unknown'], ax=axis[1])\n",
    "p.get_legend().set_title('label')\n",
    "\n",
    "p = sns.countplot(x='contact_day_of_week', hue='y', data=df.loc[df['y'] != 'unknown'], ax=axis[2])\n",
    "p.get_legend().set_title('label')"
   ]
  },
  {
   "cell_type": "markdown",
   "metadata": {},
   "source": [
    "### brirth_date\n",
    "I've decided to map birth_date into age (numeric)"
   ]
  },
  {
   "cell_type": "code",
   "execution_count": 28,
   "metadata": {},
   "outputs": [],
   "source": [
    "# Mapping birth_date into age\n",
    "age = (pd.to_datetime('2010-11-01') - pd.to_datetime(df['birth_date'])).astype('<m8[Y]').astype(int)\n",
    "df['age'] = age\n",
    "df = df.drop('birth_date', axis=1)"
   ]
  },
  {
   "cell_type": "code",
   "execution_count": 29,
   "metadata": {},
   "outputs": [
    {
     "data": {
      "image/png": "[encoded data removed]",
      "text/plain": [
       "<Figure size 2880x576 with 1 Axes>"
      ]
     },
     "metadata": {
      "needs_background": "light"
     },
     "output_type": "display_data"
    }
   ],
   "source": [
    "fig, axis = plt.subplots(1, 1, figsize=(40, 8))\n",
    "\n",
    "p = sns.countplot(x='age', hue='y', data=df.loc[df['y'] != 'unknown'], ax=axis)\n",
    "p.get_legend().set_title('label')"
   ]
  },
  {
   "cell_type": "markdown",
   "metadata": {},
   "source": [
    "### job\n",
    "job : type of job (categorical: 'admin.', 'blue-collar', 'entrepreneur', 'housemaid', 'management', 'retired', 'self-employed', 'services', 'student', 'technician', 'unemployed', 'unknown')"
   ]
  },
  {
   "cell_type": "code",
   "execution_count": 30,
   "metadata": {},
   "outputs": [
    {
     "data": {
      "image/png": "[encoded data removed]",
      "text/plain": [
       "<Figure size 2016x720 with 2 Axes>"
      ]
     },
     "metadata": {
      "needs_background": "light"
     },
     "output_type": "display_data"
    }
   ],
   "source": [
    "fig, axis = plt.subplots(2, 1, figsize=(28, 10))\n",
    "sns.countplot(x='job', data=df, ax=axis[0])\n",
    "p = sns.countplot(x='job', hue='y', data=df.loc[df['y'] != 'unknown'], ax=axis[1])\n",
    "p.get_legend().set_title('label')"
   ]
  },
  {
   "cell_type": "markdown",
   "metadata": {},
   "source": [
    "### Marital\n",
    "marital: marital status (categorical: 'divorced', 'married', 'single', 'unknown'; note: 'divorced' means divorced or widowed)"
   ]
  },
  {
   "cell_type": "code",
   "execution_count": 31,
   "metadata": {},
   "outputs": [
    {
     "data": {
      "image/png": "[encoded data removed]",
      "text/plain": [
       "<Figure size 1584x720 with 2 Axes>"
      ]
     },
     "metadata": {
      "needs_background": "light"
     },
     "output_type": "display_data"
    }
   ],
   "source": [
    "fig, axis = plt.subplots(2, 1, figsize=(22, 10))\n",
    "sns.countplot(x='marital', data=df.loc[df['marital'] != 'unknown'], ax=axis[0])\n",
    "p = sns.countplot(x='marital', hue='y', data=df.loc[df['y'] != 'unknown'], ax=axis[1])\n",
    "p.get_legend().set_title('label')"
   ]
  },
  {
   "cell_type": "markdown",
   "metadata": {},
   "source": [
    "### Education\n",
    "education (categorical: 'basic.4y', 'basic.6y', 'basic.9y', 'high.school', 'illiterate', 'professional.course', 'university.degree', 'unknown')"
   ]
  },
  {
   "cell_type": "code",
   "execution_count": 32,
   "metadata": {},
   "outputs": [
    {
     "name": "stdout",
     "output_type": "stream",
     "text": [
      "'education' values summary:\n",
      "university.degree      6192\n",
      "high.school            4781\n",
      "basic.9y               3016\n",
      "professional.course    2592\n",
      "basic.4y               2154\n",
      "basic.6y               1170\n",
      "unknown                 887\n",
      "illiterate                7\n",
      "Name: education, dtype: int64\n"
     ]
    },
    {
     "data": {
      "image/png": "[encoded data removed]",
      "text/plain": [
       "<Figure size 1584x1080 with 3 Axes>"
      ]
     },
     "metadata": {
      "needs_background": "light"
     },
     "output_type": "display_data"
    }
   ],
   "source": [
    "fig, axis = plt.subplots(3, 1, figsize=(22, 15))\n",
    "sns.countplot(x='education', data=df, ax=axis[0])\n",
    "p = sns.countplot(x='education', hue='y', data=df.loc[df['y'] != 'unknown'], ax=axis[1])\n",
    "p.get_legend().set_title('prediction')\n",
    "\n",
    "tmp = df.loc[df['y'] != 'unknown'].groupby('education')['y'].value_counts(normalize=True).unstack()\n",
    "tmp.plot(kind='bar', stacked='True', ax=axis[2])\n",
    "axis[2].legend(['no', 'yes'], loc='best')\n",
    "\n",
    "print(\"'education' values summary:\")\n",
    "print(df.loc[df['y'] != 'unknown']['education'].value_counts())"
   ]
  },
  {
   "cell_type": "markdown",
   "metadata": {},
   "source": [
    "### default\n",
    "default: has credit in default? (categorical: 'no', 'yes', 'unknown') <br>\n",
    "Observation: In our data default=='yes' -> y='no'"
   ]
  },
  {
   "cell_type": "code",
   "execution_count": 33,
   "metadata": {},
   "outputs": [
    {
     "name": "stdout",
     "output_type": "stream",
     "text": [
      "'default' values summary:\n",
      "no         16408\n",
      "unknown     4389\n",
      "yes            2\n",
      "Name: default, dtype: int64\n"
     ]
    },
    {
     "data": {
      "image/png": "[encoded data removed]",
      "text/plain": [
       "<Figure size 1584x864 with 2 Axes>"
      ]
     },
     "metadata": {
      "needs_background": "light"
     },
     "output_type": "display_data"
    }
   ],
   "source": [
    "fig, axis = plt.subplots(2 ,1, figsize=(22, 12))\n",
    "sns.countplot(x='default', data=df, ax=axis[0])\n",
    "p = sns.countplot(x='default', hue='y', data=df.loc[df['y'] != 'unknown'], ax=axis[1])\n",
    "p.get_legend().set_title('label')\n",
    "\n",
    "print(\"'default' values summary:\")\n",
    "print(df.loc[df['y'] != 'unknown']['default'].value_counts())"
   ]
  },
  {
   "cell_type": "markdown",
   "metadata": {},
   "source": [
    "### housing\n",
    "housing: has housing loan? (categorical: 'no', 'yes', 'unknown')"
   ]
  },
  {
   "cell_type": "code",
   "execution_count": 34,
   "metadata": {},
   "outputs": [
    {
     "name": "stdout",
     "output_type": "stream",
     "text": [
      "'housing' values summary:\n"
     ]
    },
    {
     "data": {
      "text/plain": [
       "yes        10923\n",
       "no          9386\n",
       "unknown      490\n",
       "Name: housing, dtype: int64"
      ]
     },
     "execution_count": 34,
     "metadata": {},
     "output_type": "execute_result"
    },
    {
     "data": {
      "image/png": "[encoded data removed]",
      "text/plain": [
       "<Figure size 1584x720 with 2 Axes>"
      ]
     },
     "metadata": {
      "needs_background": "light"
     },
     "output_type": "display_data"
    }
   ],
   "source": [
    "fig, axis = plt.subplots(2, 1, figsize=(22, 10))\n",
    "sns.countplot(x='housing', data=df, ax=axis[0])\n",
    "p = sns.countplot(x='housing', hue='y', data=df.loc[df['y'] != 'unknown'], ax=axis[1])\n",
    "p.get_legend().set_title('label')\n",
    "\n",
    "print(\"'housing' values summary:\")\n",
    "df.loc[df['y'] != 'unknown']['housing'].value_counts()"
   ]
  },
  {
   "cell_type": "markdown",
   "metadata": {},
   "source": [
    "### loan\n",
    "loan: has personal loan? (categorical: 'no', 'yes', 'unknown')"
   ]
  },
  {
   "cell_type": "code",
   "execution_count": 35,
   "metadata": {},
   "outputs": [
    {
     "name": "stdout",
     "output_type": "stream",
     "text": [
      "'loan' values summary:\n"
     ]
    },
    {
     "data": {
      "text/plain": [
       "no         17122\n",
       "yes         3187\n",
       "unknown      490\n",
       "Name: loan, dtype: int64"
      ]
     },
     "execution_count": 35,
     "metadata": {},
     "output_type": "execute_result"
    },
    {
     "data": {
      "image/png": "[encoded data removed]",
      "text/plain": [
       "<Figure size 1584x720 with 2 Axes>"
      ]
     },
     "metadata": {
      "needs_background": "light"
     },
     "output_type": "display_data"
    }
   ],
   "source": [
    "fig, axis = plt.subplots(2, 1, figsize=(22, 10))\n",
    "sns.countplot(x='loan', data=df, ax=axis[0])\n",
    "p = sns.countplot(x='loan', hue='y', data=df.loc[df['y'] != 'unknown'], ax=axis[1])\n",
    "p.get_legend().set_title('label')\n",
    "\n",
    "print(\"'loan' values summary:\")\n",
    "df.loc[df['y'] != 'unknown']['loan'].value_counts()"
   ]
  },
  {
   "cell_type": "markdown",
   "metadata": {},
   "source": [
    "### contact\n",
    "contact: contact communication type (categorical: 'cellular','telephone') "
   ]
  },
  {
   "cell_type": "code",
   "execution_count": 36,
   "metadata": {},
   "outputs": [
    {
     "name": "stdout",
     "output_type": "stream",
     "text": [
      "'contact' values summary:\n"
     ]
    },
    {
     "data": {
      "text/plain": [
       "cellular     13212\n",
       "telephone     7587\n",
       "Name: contact, dtype: int64"
      ]
     },
     "execution_count": 36,
     "metadata": {},
     "output_type": "execute_result"
    },
    {
     "data": {
      "image/png": "[encoded data removed]",
      "text/plain": [
       "<Figure size 1584x720 with 2 Axes>"
      ]
     },
     "metadata": {
      "needs_background": "light"
     },
     "output_type": "display_data"
    }
   ],
   "source": [
    "fig, axis = plt.subplots(2, 1, figsize=(22, 10))\n",
    "sns.countplot(x='contact', data=df, ax=axis[0])\n",
    "p = sns.countplot(x='contact', hue='y', data=df.loc[df['y'] != 'unknown'], ax=axis[1])\n",
    "p.get_legend().set_title('label')\n",
    "\n",
    "print(\"'contact' values summary:\")\n",
    "df.loc[df['y'] != 'unknown']['contact'].value_counts()"
   ]
  },
  {
   "cell_type": "markdown",
   "metadata": {},
   "source": [
    "### campaign\n",
    "campaign: number of contacts performed during this campaign and for this client (numeric, includes last contact)"
   ]
  },
  {
   "cell_type": "code",
   "execution_count": 37,
   "metadata": {},
   "outputs": [
    {
     "name": "stdout",
     "output_type": "stream",
     "text": [
      "campaign' values summary:\n"
     ]
    },
    {
     "data": {
      "text/plain": [
       "1     8864\n",
       "2     5340\n",
       "3     2711\n",
       "4     1354\n",
       "5      786\n",
       "6      480\n",
       "7      332\n",
       "8      222\n",
       "9      150\n",
       "10     111\n",
       "11      81\n",
       "12      69\n",
       "13      55\n",
       "14      34\n",
       "16      33\n",
       "17      29\n",
       "15      24\n",
       "19      17\n",
       "18      15\n",
       "20      14\n",
       "21      10\n",
       "22      10\n",
       "24      10\n",
       "23      10\n",
       "29       6\n",
       "27       5\n",
       "26       5\n",
       "32       3\n",
       "28       3\n",
       "30       3\n",
       "25       3\n",
       "43       2\n",
       "35       2\n",
       "33       1\n",
       "31       1\n",
       "34       1\n",
       "40       1\n",
       "41       1\n",
       "39       1\n",
       "Name: campaign, dtype: int64"
      ]
     },
     "execution_count": 37,
     "metadata": {},
     "output_type": "execute_result"
    },
    {
     "data": {
      "image/png": "[encoded data removed]",
      "text/plain": [
       "<Figure size 1584x720 with 2 Axes>"
      ]
     },
     "metadata": {
      "needs_background": "light"
     },
     "output_type": "display_data"
    }
   ],
   "source": [
    "fig, axis = plt.subplots(2 ,1, figsize=(22, 10))\n",
    "sns.countplot(x='loan', data=df, ax=axis[0])\n",
    "p = sns.countplot(x='campaign', hue='y', data=df.loc[df['y'] != 'unknown'], ax=axis[1])\n",
    "p.get_legend().set_title('label')\n",
    "\n",
    "print(\"campaign' values summary:\")\n",
    "df.loc[df['y'] != 'unknown']['campaign'].value_counts()"
   ]
  },
  {
   "cell_type": "markdown",
   "metadata": {},
   "source": [
    "### pdays\n",
    "pdays: number of days that passed by after the client was last contacted from a previous campaign (numeric; 999 means client was not previously contacted) <br>\n",
    "Since '999' means that client was not previously contacted I've decided to add additional boolean column to indicate this situation - in order to emphasise it for the model"
   ]
  },
  {
   "cell_type": "code",
   "execution_count": 38,
   "metadata": {},
   "outputs": [],
   "source": [
    "df['contacted'] = (df['pdays'] != 999).astype(int)"
   ]
  },
  {
   "cell_type": "code",
   "execution_count": 39,
   "metadata": {},
   "outputs": [
    {
     "name": "stdout",
     "output_type": "stream",
     "text": [
      "pdays values summary:\n"
     ]
    },
    {
     "data": {
      "text/plain": [
       "999    20043\n",
       "6        216\n",
       "3        214\n",
       "4         54\n",
       "9         35\n",
       "12        30\n",
       "2         30\n",
       "7         26\n",
       "13        21\n",
       "10        21\n",
       "5         21\n",
       "11        16\n",
       "14        13\n",
       "1         10\n",
       "8         10\n",
       "15         9\n",
       "0          7\n",
       "18         6\n",
       "17         6\n",
       "16         6\n",
       "22         2\n",
       "21         1\n",
       "25         1\n",
       "26         1\n",
       "Name: pdays, dtype: int64"
      ]
     },
     "execution_count": 39,
     "metadata": {},
     "output_type": "execute_result"
    }
   ],
   "source": [
    "# We can observe that 999 is most common\n",
    "print('pdays values summary:')\n",
    "df.loc[df['y'] != 'unknown']['pdays'].value_counts()"
   ]
  },
  {
   "cell_type": "markdown",
   "metadata": {},
   "source": [
    "### previous\n",
    "previous: number of contacts performed before this campaign and for this client (numeric)"
   ]
  },
  {
   "cell_type": "code",
   "execution_count": 40,
   "metadata": {},
   "outputs": [
    {
     "name": "stdout",
     "output_type": "stream",
     "text": [
      "'previous' values summary:\n",
      "0    17983\n",
      "1     2276\n",
      "2      386\n",
      "3      111\n",
      "4       32\n",
      "5        7\n",
      "6        3\n",
      "7        1\n",
      "Name: previous, dtype: int64\n"
     ]
    },
    {
     "data": {
      "image/png": "[encoded data removed]",
      "text/plain": [
       "<Figure size 1584x720 with 2 Axes>"
      ]
     },
     "metadata": {
      "needs_background": "light"
     },
     "output_type": "display_data"
    }
   ],
   "source": [
    "fig, axis = plt.subplots(2, 1, figsize=(22, 10))\n",
    "sns.countplot(x='previous', data=df, ax=axis[0])\n",
    "p = sns.countplot(x='previous', hue='y', data=df.loc[df['y'] != 'unknown'], ax=axis[1])\n",
    "p.get_legend().set_title('label')\n",
    "\n",
    "print(\"'previous' values summary:\")\n",
    "print(df.loc[df['y'] != 'unknown']['previous'].value_counts())"
   ]
  },
  {
   "cell_type": "code",
   "execution_count": 42,
   "metadata": {},
   "outputs": [
    {
     "data": {
      "text/html": [
       "<div>\n",
       "<style scoped>\n",
       "    .dataframe tbody tr th:only-of-type {\n",
       "        vertical-align: middle;\n",
       "    }\n",
       "\n",
       "    .dataframe tbody tr th {\n",
       "        vertical-align: top;\n",
       "    }\n",
       "\n",
       "    .dataframe thead th {\n",
       "        text-align: right;\n",
       "    }\n",
       "</style>\n",
       "<table border=\"1\" class=\"dataframe\">\n",
       "  <thead>\n",
       "    <tr style=\"text-align: right;\">\n",
       "      <th></th>\n",
       "      <th>id</th>\n",
       "      <th>campaign</th>\n",
       "      <th>pdays</th>\n",
       "      <th>previous</th>\n",
       "      <th>y</th>\n",
       "      <th>age</th>\n",
       "      <th>contacted</th>\n",
       "      <th>job_admin.</th>\n",
       "      <th>job_blue-collar</th>\n",
       "      <th>job_entrepreneur</th>\n",
       "      <th>...</th>\n",
       "      <th>contact_month_8</th>\n",
       "      <th>contact_month_9</th>\n",
       "      <th>contact_month_10</th>\n",
       "      <th>contact_month_11</th>\n",
       "      <th>contact_month_12</th>\n",
       "      <th>contact_day_of_week_0</th>\n",
       "      <th>contact_day_of_week_1</th>\n",
       "      <th>contact_day_of_week_2</th>\n",
       "      <th>contact_day_of_week_3</th>\n",
       "      <th>contact_day_of_week_4</th>\n",
       "    </tr>\n",
       "  </thead>\n",
       "  <tbody>\n",
       "    <tr>\n",
       "      <th>0</th>\n",
       "      <td>1</td>\n",
       "      <td>1</td>\n",
       "      <td>999</td>\n",
       "      <td>0</td>\n",
       "      <td>no</td>\n",
       "      <td>58</td>\n",
       "      <td>0</td>\n",
       "      <td>0</td>\n",
       "      <td>0</td>\n",
       "      <td>0</td>\n",
       "      <td>...</td>\n",
       "      <td>0</td>\n",
       "      <td>0</td>\n",
       "      <td>0</td>\n",
       "      <td>0</td>\n",
       "      <td>0</td>\n",
       "      <td>1</td>\n",
       "      <td>0</td>\n",
       "      <td>0</td>\n",
       "      <td>0</td>\n",
       "      <td>0</td>\n",
       "    </tr>\n",
       "    <tr>\n",
       "      <th>1</th>\n",
       "      <td>2</td>\n",
       "      <td>1</td>\n",
       "      <td>999</td>\n",
       "      <td>0</td>\n",
       "      <td>unknown</td>\n",
       "      <td>59</td>\n",
       "      <td>0</td>\n",
       "      <td>0</td>\n",
       "      <td>0</td>\n",
       "      <td>0</td>\n",
       "      <td>...</td>\n",
       "      <td>0</td>\n",
       "      <td>0</td>\n",
       "      <td>0</td>\n",
       "      <td>0</td>\n",
       "      <td>0</td>\n",
       "      <td>1</td>\n",
       "      <td>0</td>\n",
       "      <td>0</td>\n",
       "      <td>0</td>\n",
       "      <td>0</td>\n",
       "    </tr>\n",
       "    <tr>\n",
       "      <th>2</th>\n",
       "      <td>3</td>\n",
       "      <td>1</td>\n",
       "      <td>999</td>\n",
       "      <td>0</td>\n",
       "      <td>no</td>\n",
       "      <td>39</td>\n",
       "      <td>0</td>\n",
       "      <td>0</td>\n",
       "      <td>0</td>\n",
       "      <td>0</td>\n",
       "      <td>...</td>\n",
       "      <td>0</td>\n",
       "      <td>0</td>\n",
       "      <td>0</td>\n",
       "      <td>0</td>\n",
       "      <td>0</td>\n",
       "      <td>1</td>\n",
       "      <td>0</td>\n",
       "      <td>0</td>\n",
       "      <td>0</td>\n",
       "      <td>0</td>\n",
       "    </tr>\n",
       "    <tr>\n",
       "      <th>3</th>\n",
       "      <td>4</td>\n",
       "      <td>1</td>\n",
       "      <td>999</td>\n",
       "      <td>0</td>\n",
       "      <td>unknown</td>\n",
       "      <td>42</td>\n",
       "      <td>0</td>\n",
       "      <td>1</td>\n",
       "      <td>0</td>\n",
       "      <td>0</td>\n",
       "      <td>...</td>\n",
       "      <td>0</td>\n",
       "      <td>0</td>\n",
       "      <td>0</td>\n",
       "      <td>0</td>\n",
       "      <td>0</td>\n",
       "      <td>1</td>\n",
       "      <td>0</td>\n",
       "      <td>0</td>\n",
       "      <td>0</td>\n",
       "      <td>0</td>\n",
       "    </tr>\n",
       "    <tr>\n",
       "      <th>4</th>\n",
       "      <td>5</td>\n",
       "      <td>1</td>\n",
       "      <td>999</td>\n",
       "      <td>0</td>\n",
       "      <td>unknown</td>\n",
       "      <td>58</td>\n",
       "      <td>0</td>\n",
       "      <td>0</td>\n",
       "      <td>0</td>\n",
       "      <td>0</td>\n",
       "      <td>...</td>\n",
       "      <td>0</td>\n",
       "      <td>0</td>\n",
       "      <td>0</td>\n",
       "      <td>0</td>\n",
       "      <td>0</td>\n",
       "      <td>1</td>\n",
       "      <td>0</td>\n",
       "      <td>0</td>\n",
       "      <td>0</td>\n",
       "      <td>0</td>\n",
       "    </tr>\n",
       "  </tbody>\n",
       "</table>\n",
       "<p>5 rows × 57 columns</p>\n",
       "</div>"
      ],
      "text/plain": [
       "   id  campaign  pdays  previous        y  age  contacted  job_admin.  \\\n",
       "0   1         1    999         0       no   58          0           0   \n",
       "1   2         1    999         0  unknown   59          0           0   \n",
       "2   3         1    999         0       no   39          0           0   \n",
       "3   4         1    999         0  unknown   42          0           1   \n",
       "4   5         1    999         0  unknown   58          0           0   \n",
       "\n",
       "   job_blue-collar  job_entrepreneur  ...  contact_month_8  contact_month_9  \\\n",
       "0                0                 0  ...                0                0   \n",
       "1                0                 0  ...                0                0   \n",
       "2                0                 0  ...                0                0   \n",
       "3                0                 0  ...                0                0   \n",
       "4                0                 0  ...                0                0   \n",
       "\n",
       "   contact_month_10  contact_month_11  contact_month_12  \\\n",
       "0                 0                 0                 0   \n",
       "1                 0                 0                 0   \n",
       "2                 0                 0                 0   \n",
       "3                 0                 0                 0   \n",
       "4                 0                 0                 0   \n",
       "\n",
       "   contact_day_of_week_0  contact_day_of_week_1  contact_day_of_week_2  \\\n",
       "0                      1                      0                      0   \n",
       "1                      1                      0                      0   \n",
       "2                      1                      0                      0   \n",
       "3                      1                      0                      0   \n",
       "4                      1                      0                      0   \n",
       "\n",
       "   contact_day_of_week_3  contact_day_of_week_4  \n",
       "0                      0                      0  \n",
       "1                      0                      0  \n",
       "2                      0                      0  \n",
       "3                      0                      0  \n",
       "4                      0                      0  \n",
       "\n",
       "[5 rows x 57 columns]"
      ]
     },
     "execution_count": 42,
     "metadata": {},
     "output_type": "execute_result"
    }
   ],
   "source": [
    "# One Hot Encoding\n",
    "for feature in ['job', 'marital', 'education', 'default', 'housing', 'loan', 'contact', 'poutcome', 'contact_year', 'contact_month', 'contact_day_of_week']:\n",
    "    df = pd.concat([df, pd.get_dummies(df[feature], prefix=feature)], axis=1)\n",
    "    df = df.drop([feature], axis=1)\n",
    "\n",
    "df = df[df.columns.drop(list(df.filter(regex='unknown')))]\n",
    "df.head()"
   ]
  },
  {
   "cell_type": "markdown",
   "metadata": {},
   "source": [
    "### Preparing dataset for model's API"
   ]
  },
  {
   "cell_type": "code",
   "execution_count": 43,
   "metadata": {},
   "outputs": [],
   "source": [
    "# Map labels to integers\n",
    "df['y'] = df['y'].map({'yes': 1, 'no': 0, 'unknown': -1})\n",
    "\n",
    "# Split known from unknown\n",
    "X = df.loc[df['y'] != -1].drop(['y'], axis=1)\n",
    "y = df.loc[df['y'] != -1, 'y']\n",
    "X_unlabeled = df.loc[df['y'] == -1].drop(['y'], axis=1) # Data for Kaggle prediction\n",
    "\n",
    "# Create train/test sets\n",
    "from sklearn.model_selection import train_test_split\n",
    "X_train, X_test, y_train, y_test = train_test_split(X, y, test_size=0.25, random_state=42)"
   ]
  },
  {
   "cell_type": "markdown",
   "metadata": {},
   "source": [
    "### Tools and settings"
   ]
  },
  {
   "cell_type": "code",
   "execution_count": 44,
   "metadata": {},
   "outputs": [],
   "source": [
    "from sklearn.metrics import precision_score, recall_score, roc_auc_score, roc_curve\n",
    "import matplotlib.pyplot as plt\n",
    "\n",
    "# plt.style.use('fivethirtyeight')\n",
    "# plt.rcParams['font.size']=18\n",
    "    \n",
    "def evaluate_model(model, name=None):\n",
    "    from sklearn.model_selection import cross_val_score\n",
    "    if name:\n",
    "        print(name)\n",
    "    print('\\ncross-validation scores (roc_auc) train dataset:\\n', cross_val_score(model, X_train, y_train, cv=3, scoring='roc_auc'), \"\\n\")\n",
    "    train_probs = model.predict_proba(X_train)[:, 1]\n",
    "    test_probs = model.predict_proba(X_test)[:, 1]\n",
    "    \n",
    "    # Train set performance - used to check whether model visibly overfits\n",
    "    train_results = {}\n",
    "    train_results['roc'] = roc_auc_score(y_train, train_probs)\n",
    "    \n",
    "    # Test set performance\n",
    "    results = {}\n",
    "    results['roc'] = roc_auc_score(y_test, test_probs)\n",
    "    \n",
    "    for metric in ['roc']:\n",
    "         print(f'''{metric.capitalize()} \n",
    "         Train: {round(train_results[metric], 2)}\n",
    "         Test: {round(results[metric], 2)}\n",
    "         ''')\n",
    "    \n",
    "\n",
    "def save_models(models, dir_path):\n",
    "    from sklearn.externals import joblib\n",
    "    import os\n",
    "    \n",
    "    if not os.path.exists(dir_path):\n",
    "        os.makedirs(dir_path)\n",
    "    for name, model in models.items():\n",
    "        joblib.dump(model, f'{dir_path}/{name}.pkl')\n",
    "    \n",
    "    \n",
    "def present_models(models):\n",
    "    ''' models: dictionary['name'] -> model '''\n",
    "    train_results = {}\n",
    "    test_results = {}\n",
    "    for name, model in sorted(models.items()):\n",
    "        train_probs = model.predict_proba(X_train)[:, 1]\n",
    "        test_probs = model.predict_proba(X_test)[:, 1]\n",
    "        train_results[name] = roc_auc_score(y_train, train_probs)\n",
    "        test_results[name] = roc_auc_score(y_test, test_probs)\n",
    "    \n",
    "    models_df = pd.DataFrame.from_dict(train_results, orient='index', columns=['train results roc']\n",
    "                                      ).join(pd.DataFrame.from_dict(test_results, orient='index', columns=['test results roc']))\n",
    "    print(models_df.to_string())\n",
    "    return models_df\n",
    "\n",
    "\n",
    "def get_best_model(models):\n",
    "    best_result = 0\n",
    "    for name, model in sorted(models.items()):\n",
    "        test_probs = model.predict_proba(X_test)[:, 1]\n",
    "        result = roc_auc_score(y_test, test_probs)\n",
    "        if result > best_result:\n",
    "            best_model = model\n",
    "            best_name = name\n",
    "            best_result = result\n",
    "    return best_name, best_model\n",
    "    \n",
    "    \n",
    "def save_predictions(predictions, filename='predictions.csv'):\n",
    "    tmp1 = df.loc[df['y'] == -1, 'id']\n",
    "    tmp1.reset_index(drop=True, inplace=True)\n",
    "    tmp2 = pd.Series(predictions)\n",
    "    tmp2.reset_index(drop=True, inplace=True)\n",
    "    res = pd.concat([tmp1, tmp2], axis=1)\n",
    "    res.columns = ['id', 'y']\n",
    "    res.head()\n",
    "    res.to_csv(filename, index=False)\n",
    "\n",
    "\n",
    "def make_predictions_for_submission(model, filename='predictions.csv'):\n",
    "    save_predictions(model.predict_proba(X_unlabeled)[:, 1], filename)\n",
    "    \n",
    "\n",
    "def save_pdf(model, name):\n",
    "    from IPython.display import Image  \n",
    "    import pydotplus\n",
    "    # Visualize Tree\n",
    "    dot_data = tree.export_graphviz(clf,\n",
    "                                out_file=None,\n",
    "                                feature_names=X.columns,\n",
    "                                filled=True)\n",
    "    graph = pydotplus.graph_from_dot_data(dot_data) \n",
    "    Image(graph.create_png())\n",
    "    graph.write_pdf(name)"
   ]
  },
  {
   "cell_type": "code",
   "execution_count": 45,
   "metadata": {},
   "outputs": [],
   "source": [
    "# Common\n",
    "from sklearn.model_selection import RandomizedSearchCV\n",
    "from sklearn.model_selection import GridSearchCV\n",
    "\n",
    "random_search_params = {\n",
    "    'n_iter': 1000,\n",
    "    'scoring': 'roc_auc',\n",
    "    'n_jobs': -1,\n",
    "    'cv': 3,\n",
    "    'verbose': 2,\n",
    "    'random_state': 42\n",
    "}\n",
    "\n",
    "grid_search_params = {\n",
    "    'cv': 3,\n",
    "    'n_jobs': -1,\n",
    "    'verbose': 2\n",
    "}\n",
    "\n",
    "all_models = {}"
   ]
  },
  {
   "cell_type": "markdown",
   "metadata": {},
   "source": [
    "# Models"
   ]
  },
  {
   "cell_type": "markdown",
   "metadata": {},
   "source": [
    "### RandomForestClassifier"
   ]
  },
  {
   "cell_type": "code",
   "execution_count": 58,
   "metadata": {},
   "outputs": [
    {
     "name": "stdout",
     "output_type": "stream",
     "text": [
      "\n",
      "cross-validation scores (roc_auc) train dataset:\n",
      " [0.79691631 0.78724388 0.80073021] \n",
      "\n",
      "Roc \n",
      "         Train: 0.89\n",
      "         Test: 0.79\n",
      "         \n"
     ]
    }
   ],
   "source": [
    "from sklearn.ensemble import RandomForestClassifier\n",
    "\n",
    "rfc_baseline = RandomForestClassifier(max_depth=10, n_estimators=500)\n",
    "rfc_baseline.fit(X_train, y_train)\n",
    "all_models['rfc_baseline'] = rfc_baseline\n",
    "evaluate_model(rfc_baseline)"
   ]
  },
  {
   "cell_type": "markdown",
   "metadata": {},
   "source": [
    "### AdaBoostClassifier"
   ]
  },
  {
   "cell_type": "code",
   "execution_count": 47,
   "metadata": {},
   "outputs": [
    {
     "name": "stdout",
     "output_type": "stream",
     "text": [
      "\n",
      "cross-validation scores (roc_auc) train dataset:\n",
      " [0.7923945  0.77672624 0.79711587] \n",
      "\n",
      "Roc \n",
      "         Train: 0.8\n",
      "         Test: 0.79\n",
      "         \n"
     ]
    }
   ],
   "source": [
    "from sklearn.ensemble import AdaBoostClassifier\n",
    "from sklearn.tree import DecisionTreeClassifier\n",
    "\n",
    "adaboost_baseline = AdaBoostClassifier(learning_rate=0.1, n_estimators=256, random_state=42)\n",
    "adaboost_baseline.fit(X_train, y_train)\n",
    "evaluate_model(adaboost_baseline)\n",
    "all_models['adaboost_baseline'] = adaboost_baseline"
   ]
  },
  {
   "cell_type": "markdown",
   "metadata": {},
   "source": [
    "### GradientBoostingClassifier"
   ]
  },
  {
   "cell_type": "code",
   "execution_count": 48,
   "metadata": {},
   "outputs": [
    {
     "name": "stdout",
     "output_type": "stream",
     "text": [
      "\n",
      "cross-validation scores (roc_auc) train dataset:\n",
      " [0.79394756 0.78363849 0.8046693 ] \n",
      "\n",
      "Roc \n",
      "         Train: 0.82\n",
      "         Test: 0.79\n",
      "         \n"
     ]
    }
   ],
   "source": [
    "from sklearn.ensemble import GradientBoostingClassifier\n",
    "\n",
    "gbc_baseline = GradientBoostingClassifier()\n",
    "gbc_baseline.fit(X_train, y_train)\n",
    "\n",
    "evaluate_model(gbc_baseline)\n",
    "all_models['gbc_baseline'] = gbc_baseline"
   ]
  },
  {
   "cell_type": "code",
   "execution_count": 49,
   "metadata": {},
   "outputs": [
    {
     "name": "stdout",
     "output_type": "stream",
     "text": [
      "Fitting 3 folds for each of 100 candidates, totalling 300 fits\n"
     ]
    },
    {
     "name": "stderr",
     "output_type": "stream",
     "text": [
      "[Parallel(n_jobs=-1)]: Using backend LokyBackend with 8 concurrent workers.\n",
      "[Parallel(n_jobs=-1)]: Done  25 tasks      | elapsed:   10.8s\n",
      "[Parallel(n_jobs=-1)]: Done 146 tasks      | elapsed:  3.1min\n",
      "[Parallel(n_jobs=-1)]: Done 300 out of 300 | elapsed:  6.8min finished\n"
     ]
    },
    {
     "data": {
      "text/plain": [
       "GridSearchCV(cv=3, error_score=nan,\n",
       "             estimator=GradientBoostingClassifier(ccp_alpha=0.0,\n",
       "                                                  criterion='friedman_mse',\n",
       "                                                  init=None, learning_rate=0.1,\n",
       "                                                  loss='deviance', max_depth=3,\n",
       "                                                  max_features='sqrt',\n",
       "                                                  max_leaf_nodes=None,\n",
       "                                                  min_impurity_decrease=0.0,\n",
       "                                                  min_impurity_split=None,\n",
       "                                                  min_samples_leaf=1,\n",
       "                                                  min_samples_split=2,\n",
       "                                                  min_weight_fraction_leaf=0.0,\n",
       "                                                  n_estimators=100,\n",
       "                                                  n_iter_no_change=None,\n",
       "                                                  presort='deprecated',\n",
       "                                                  random_state=42,\n",
       "                                                  subsample=1.0, tol=0.0001,\n",
       "                                                  validation_fraction=0.1,\n",
       "                                                  verbose=0, warm_start=False),\n",
       "             iid='deprecated', n_jobs=-1,\n",
       "             param_grid={'learning_rate': [0.01, 0.05, 0.075, 0.1],\n",
       "                         'max_depth': [3, 5, 7, 10, 13],\n",
       "                         'n_estimators': [50, 100, 200, 300, 500]},\n",
       "             pre_dispatch='2*n_jobs', refit=True, return_train_score=False,\n",
       "             scoring=None, verbose=2)"
      ]
     },
     "execution_count": 49,
     "metadata": {},
     "output_type": "execute_result"
    }
   ],
   "source": [
    "fixed_params = {\n",
    "    'random_state': 42,\n",
    "    'max_features': 'sqrt'\n",
    "}\n",
    "\n",
    "param_grid = {\n",
    "    'n_estimators': [50, 100, 200, 300, 500], \n",
    "    'learning_rate': [0.01, 0.05, 0.075, 0.1],\n",
    "    'max_depth': [3, 5, 7, 10, 13]\n",
    "}\n",
    "    \n",
    "gbc_grid_search = GridSearchCV(estimator=GradientBoostingClassifier(**fixed_params),\n",
    "                               param_grid=param_grid,\n",
    "                               **grid_search_params)\n",
    "gbc_grid_search.fit(X_train, y_train)"
   ]
  },
  {
   "cell_type": "code",
   "execution_count": 49,
   "metadata": {},
   "outputs": [
    {
     "name": "stdout",
     "output_type": "stream",
     "text": [
      "{'learning_rate': 0.05, 'max_depth': 5, 'n_estimators': 100}\n",
      "\n",
      "cross-validation scores (roc_auc) train dataset:\n",
      " [0.79296845 0.78841993 0.80640496] \n",
      "\n",
      "Roc \n",
      "         Train: 0.83\n",
      "         Test: 0.79\n",
      "         \n"
     ]
    }
   ],
   "source": [
    "print(gbc_grid_search.best_params_)\n",
    "evaluate_model(gbc_grid_search.best_estimator_)\n",
    "all_models['gbc_grid_search'] = gbc_grid_search"
   ]
  },
  {
   "cell_type": "markdown",
   "metadata": {},
   "source": [
    "### XGBClassifier"
   ]
  },
  {
   "cell_type": "code",
   "execution_count": 53,
   "metadata": {},
   "outputs": [
    {
     "name": "stdout",
     "output_type": "stream",
     "text": [
      "<bound method XGBModel.get_params of XGBClassifier(base_score=0.5, booster='gbtree', colsample_bylevel=1,\n",
      "              colsample_bynode=1, colsample_bytree=1, gamma=0,\n",
      "              learning_rate=0.1, max_delta_step=0, max_depth=3,\n",
      "              min_child_weight=1, missing=None, n_estimators=100, n_jobs=1,\n",
      "              nthread=None, objective='binary:logistic', random_state=0,\n",
      "              reg_alpha=0, reg_lambda=1, scale_pos_weight=1, seed=None,\n",
      "              silent=None, subsample=1, verbosity=1)>\n",
      "\n",
      "cross-validation scores (roc_auc) train dataset:\n",
      " [0.79907692 0.79014886 0.80965676] \n",
      "\n",
      "Roc \n",
      "         Train: 0.83\n",
      "         Test: 0.79\n",
      "         \n"
     ]
    }
   ],
   "source": [
    "from xgboost import XGBClassifier\n",
    "\n",
    "xgb_clf_baseline = XGBClassifier()\n",
    "xgb_clf_baseline.fit(X_train, y_train)\n",
    "\n",
    "print(xgb_clf_baseline.get_params)\n",
    "evaluate_model(xgb_clf_baseline)\n",
    "all_models['xgb_clf_baseline'] = xgb_clf_baseline"
   ]
  },
  {
   "cell_type": "code",
   "execution_count": 54,
   "metadata": {},
   "outputs": [
    {
     "name": "stdout",
     "output_type": "stream",
     "text": [
      "Fitting 3 folds for each of 300 candidates, totalling 900 fits\n"
     ]
    },
    {
     "name": "stderr",
     "output_type": "stream",
     "text": [
      "[Parallel(n_jobs=-1)]: Using backend LokyBackend with 8 concurrent workers.\n",
      "[Parallel(n_jobs=-1)]: Done  25 tasks      | elapsed:   37.7s\n",
      "[Parallel(n_jobs=-1)]: Done 146 tasks      | elapsed:  3.2min\n",
      "[Parallel(n_jobs=-1)]: Done 349 tasks      | elapsed:  7.1min\n",
      "[Parallel(n_jobs=-1)]: Done 632 tasks      | elapsed: 12.5min\n",
      "[Parallel(n_jobs=-1)]: Done 900 out of 900 | elapsed: 18.3min finished\n"
     ]
    },
    {
     "data": {
      "text/plain": [
       "RandomizedSearchCV(cv=3, error_score=nan,\n",
       "                   estimator=XGBClassifier(base_score=0.5, booster='gbtree',\n",
       "                                           colsample_bylevel=1,\n",
       "                                           colsample_bynode=1,\n",
       "                                           colsample_bytree=1, gamma=0,\n",
       "                                           learning_rate=0.1, max_delta_step=0,\n",
       "                                           max_depth=3, min_child_weight=1,\n",
       "                                           missing=None, n_estimators=100,\n",
       "                                           n_jobs=1, nthread=None,\n",
       "                                           objective='binary:logistic',\n",
       "                                           random_state=0, reg_alpha=0,\n",
       "                                           reg_lambda=1, sc...\n",
       "                                           seed=None, silent=None, subsample=1,\n",
       "                                           verbosity=1),\n",
       "                   iid='deprecated', n_iter=300, n_jobs=-1,\n",
       "                   param_distributions={'colsample_bytree': [0.8, 1.0],\n",
       "                                        'gamma': [0, 0.5],\n",
       "                                        'learning_rate': [0.01, 0.05, 0.1],\n",
       "                                        'max_depth': [4, 5, 6],\n",
       "                                        'min_child_weight': [1, 2],\n",
       "                                        'n_estimators': [80, 100, 150],\n",
       "                                        'subsample': [0.8, 1.0]},\n",
       "                   pre_dispatch='2*n_jobs', random_state=42, refit=True,\n",
       "                   return_train_score=False, scoring='roc_auc', verbose=2)"
      ]
     },
     "execution_count": 54,
     "metadata": {},
     "output_type": "execute_result"
    }
   ],
   "source": [
    "fixed_params = {\n",
    "    'objective': 'binary:logistic',\n",
    "}\n",
    "\n",
    "param_distributions = {\n",
    "    'learning_rate': [0.01, 0.05, 0.1],\n",
    "    'n_estimators': [80, 100, 150],\n",
    "    'min_child_weight': [1, 2],\n",
    "    'gamma': [0, 0.5],\n",
    "    'subsample': [0.8, 1.0],\n",
    "    'colsample_bytree': [0.8, 1.0],\n",
    "    'max_depth': [4, 5, 6]\n",
    "}\n",
    "\n",
    "xgb_random_search_params = random_search_params.copy()\n",
    "xgb_random_search_params['n_iter'] = 300\n",
    "\n",
    "xgb_random_search = RandomizedSearchCV(estimator=XGBClassifier(**fixed_params),\n",
    "                                       param_distributions=param_distributions,\n",
    "                                       **xgb_random_search_params\n",
    "                                      )\n",
    "xgb_random_search.fit(X_train, y_train)"
   ]
  },
  {
   "cell_type": "code",
   "execution_count": 56,
   "metadata": {},
   "outputs": [
    {
     "name": "stdout",
     "output_type": "stream",
     "text": [
      "\n",
      "cross-validation scores (roc_auc) train dataset:\n",
      " [0.79884364 0.79352586 0.81024301] \n",
      "\n",
      "Roc \n",
      "         Train: 0.85\n",
      "         Test: 0.79\n",
      "         \n",
      "{'subsample': 0.8, 'n_estimators': 100, 'min_child_weight': 2, 'max_depth': 5, 'learning_rate': 0.05, 'gamma': 0.5, 'colsample_bytree': 1.0}\n"
     ]
    }
   ],
   "source": [
    "all_models['xgb_random_search'] = xgb_random_search.best_estimator_\n",
    "evaluate_model(xgb_random_search.best_estimator_)\n",
    "print(xgb_random_search.best_params_)"
   ]
  },
  {
   "cell_type": "markdown",
   "metadata": {},
   "source": [
    "### LightGBM"
   ]
  },
  {
   "cell_type": "code",
   "execution_count": 59,
   "metadata": {},
   "outputs": [
    {
     "name": "stdout",
     "output_type": "stream",
     "text": [
      "LGBMClassifier(boosting_type='gbdt', class_weight=None, colsample_bytree=1.0,\n",
      "               importance_type='split', learning_rate=0.1, max_depth=-1,\n",
      "               min_child_samples=20, min_child_weight=0.001, min_split_gain=0.0,\n",
      "               n_estimators=100, n_jobs=-1, num_leaves=31, objective=None,\n",
      "               random_state=None, reg_alpha=0.0, reg_lambda=0.0, seed=42,\n",
      "               silent=True, subsample=1.0, subsample_for_bin=200000,\n",
      "               subsample_freq=0, verbose=2)\n",
      "\n",
      "cross-validation scores (roc_auc) train dataset:\n",
      " [0.78474115 0.78227058 0.79525917] \n",
      "\n",
      "Roc \n",
      "         Train: 0.93\n",
      "         Test: 0.78\n",
      "         \n"
     ]
    }
   ],
   "source": [
    "import lightgbm as lgbm\n",
    "\n",
    "fixed_params = {    \n",
    "    'verbose': 2,\n",
    "    'seed': 42\n",
    "}\n",
    "\n",
    "lgbm_baseline = lgbm.LGBMClassifier(**fixed_params)\n",
    "lgbm_baseline.fit(X_train, y_train)\n",
    "\n",
    "print(lgbm_baseline)\n",
    "evaluate_model(lgbm_baseline)\n",
    "all_models['lgbm_baseline'] = lgbm_baseline"
   ]
  },
  {
   "cell_type": "code",
   "execution_count": 60,
   "metadata": {},
   "outputs": [
    {
     "name": "stdout",
     "output_type": "stream",
     "text": [
      "Fitting 3 folds for each of 1200 candidates, totalling 3600 fits\n"
     ]
    },
    {
     "name": "stderr",
     "output_type": "stream",
     "text": [
      "[Parallel(n_jobs=-1)]: Using backend LokyBackend with 8 concurrent workers.\n",
      "[Parallel(n_jobs=-1)]: Done  25 tasks      | elapsed:    8.9s\n",
      "[Parallel(n_jobs=-1)]: Done 146 tasks      | elapsed:   30.7s\n",
      "[Parallel(n_jobs=-1)]: Done 349 tasks      | elapsed:  1.1min\n",
      "[Parallel(n_jobs=-1)]: Done 632 tasks      | elapsed:  1.9min\n",
      "[Parallel(n_jobs=-1)]: Done 997 tasks      | elapsed:  3.0min\n",
      "[Parallel(n_jobs=-1)]: Done 1442 tasks      | elapsed:  4.4min\n",
      "[Parallel(n_jobs=-1)]: Done 1969 tasks      | elapsed:  6.0min\n",
      "[Parallel(n_jobs=-1)]: Done 2576 tasks      | elapsed:  7.9min\n",
      "[Parallel(n_jobs=-1)]: Done 3265 tasks      | elapsed: 10.1min\n",
      "[Parallel(n_jobs=-1)]: Done 3600 out of 3600 | elapsed: 11.2min finished\n"
     ]
    },
    {
     "data": {
      "text/plain": [
       "RandomizedSearchCV(cv=3, error_score=nan,\n",
       "                   estimator=LGBMClassifier(boosting_type='gbdt',\n",
       "                                            class_weight=None,\n",
       "                                            colsample_bytree=1.0,\n",
       "                                            importance_type='split',\n",
       "                                            learning_rate=0.1, max_depth=-1,\n",
       "                                            min_child_samples=20,\n",
       "                                            min_child_weight=0.001,\n",
       "                                            min_split_gain=0.0,\n",
       "                                            n_estimators=100, n_jobs=-1,\n",
       "                                            num_leaves=31, objective=None,\n",
       "                                            random_state=None, reg_alpha=0.0,\n",
       "                                            reg_lambda=0.0, seed...\n",
       "                   param_distributions={'bagging_fraction': [0.8, 0.85, 0.9],\n",
       "                                        'boosting_type': ['gbdt'],\n",
       "                                        'feature_fraction': [0.8, 0.85],\n",
       "                                        'learning_rate': [0.001, 0.05, 0.01,\n",
       "                                                          0.03],\n",
       "                                        'max_depth': [-1, 18, 20, 23, 25],\n",
       "                                        'metric': ['auc'],\n",
       "                                        'min_data': [35, 40, 45],\n",
       "                                        'n_estimators': [256, 300, 350],\n",
       "                                        'num_leaves': [16, 20, 23, 25],\n",
       "                                        'objective': ['binary']},\n",
       "                   pre_dispatch='2*n_jobs', random_state=42, refit=True,\n",
       "                   return_train_score=False, scoring='roc_auc', verbose=2)"
      ]
     },
     "execution_count": 60,
     "metadata": {},
     "output_type": "execute_result"
    }
   ],
   "source": [
    "# Note: Parameters for random search have been already \"tuned\" by me after running multiple trainings\n",
    "# It allowed me to narrow down the parameters space\n",
    "\n",
    "param_distributions = {\n",
    "    'boosting_type': ['gbdt'],\n",
    "    'num_leaves': [16, 20, 23, 25],\n",
    "    'max_depth': [-1, 18, 20, 23, 25],\n",
    "    'learning_rate': [0.001, 0.05, 0.01, 0.03],\n",
    "    'n_estimators': [256, 300, 350],\n",
    "    'objective': ['binary'],\n",
    "    'min_data': [35, 40, 45],\n",
    "    'feature_fraction': [0.8, 0.85],\n",
    "    'bagging_fraction': [0.8, 0.85, 0.9],\n",
    "    'metric': ['auc'],\n",
    "}\n",
    "\n",
    "lgbm_random_search_params = random_search_params.copy()\n",
    "lgbm_random_search_params['n_iter'] = 1200\n",
    "\n",
    "lgbm_gbdt_random_search = RandomizedSearchCV(estimator=lgbm.LGBMClassifier(**fixed_params),\n",
    "                                        param_distributions=param_distributions,\n",
    "                                        **lgbm_random_search_params)\n",
    "lgbm_gbdt_random_search.fit(X_train, y_train)"
   ]
  },
  {
   "cell_type": "code",
   "execution_count": 68,
   "metadata": {},
   "outputs": [
    {
     "name": "stdout",
     "output_type": "stream",
     "text": [
      "{'objective': 'binary', 'num_leaves': 25, 'n_estimators': 300, 'min_data': 40, 'metric': 'auc', 'max_depth': 25, 'learning_rate': 0.01, 'feature_fraction': 0.8, 'boosting_type': 'gbdt', 'bagging_fraction': 0.9}\n",
      "\n",
      "cross-validation scores (roc_auc) train dataset:\n",
      " [0.79944793 0.7967001  0.80997715] \n",
      "\n",
      "Roc \n",
      "         Train: 0.85\n",
      "         Test: 0.79\n",
      "         \n"
     ]
    }
   ],
   "source": [
    "print(lgbm_gbdt_random_search.best_params_)\n",
    "evaluate_model(lgbm_gbdt_random_search.best_estimator_)\n",
    "all_models['lgbm_gbdt_random_search'] = lgbm_gbdt_random_search.best_estimator_"
   ]
  },
  {
   "cell_type": "code",
   "execution_count": 70,
   "metadata": {},
   "outputs": [
    {
     "name": "stdout",
     "output_type": "stream",
     "text": [
      "\n",
      "cross-validation scores (roc_auc) train dataset:\n",
      " [0.79868176 0.79385908 0.80745552] \n",
      "\n",
      "Roc \n",
      "         Train: 0.84\n",
      "         Test: 0.8\n",
      "         \n"
     ]
    }
   ],
   "source": [
    "lgbm_gbdt_best = lgbm.LGBMClassifier(**{'objective': 'binary',\n",
    "                                        'num_leaves': 25,\n",
    "                                        'n_estimators': 200,\n",
    "                                        'min_data': 30,\n",
    "                                        'metric': 'auc',\n",
    "                                        'max_depth': 30,\n",
    "                                        'learning_rate': 0.01,\n",
    "                                        'feature_fraction': 0.85,\n",
    "                                        'boosting_type': 'gbdt',\n",
    "                                        'bagging_fraction': 0.85})\n",
    "\n",
    "lgbm_gbdt_best.fit(X_train, y_train)\n",
    "evaluate_model(lgbm_gbdt_best)\n",
    "all_models['lgbm_gbdt_best'] = lgbm_gbdt_best"
   ]
  },
  {
   "cell_type": "code",
   "execution_count": 65,
   "metadata": {},
   "outputs": [
    {
     "name": "stdout",
     "output_type": "stream",
     "text": [
      "Fitting 3 folds for each of 1000 candidates, totalling 3000 fits\n"
     ]
    },
    {
     "name": "stderr",
     "output_type": "stream",
     "text": [
      "[Parallel(n_jobs=-1)]: Using backend LokyBackend with 8 concurrent workers.\n",
      "[Parallel(n_jobs=-1)]: Done  25 tasks      | elapsed:    6.5s\n",
      "[Parallel(n_jobs=-1)]: Done 146 tasks      | elapsed:   21.9s\n",
      "[Parallel(n_jobs=-1)]: Done 349 tasks      | elapsed:   46.6s\n",
      "[Parallel(n_jobs=-1)]: Done 632 tasks      | elapsed:  1.3min\n",
      "[Parallel(n_jobs=-1)]: Done 997 tasks      | elapsed:  2.1min\n",
      "[Parallel(n_jobs=-1)]: Done 1442 tasks      | elapsed:  3.0min\n",
      "[Parallel(n_jobs=-1)]: Done 1969 tasks      | elapsed:  4.1min\n",
      "[Parallel(n_jobs=-1)]: Done 2576 tasks      | elapsed:  5.3min\n",
      "[Parallel(n_jobs=-1)]: Done 3000 out of 3000 | elapsed:  6.2min finished\n"
     ]
    },
    {
     "data": {
      "text/plain": [
       "RandomizedSearchCV(cv=3, error_score=nan,\n",
       "                   estimator=LGBMClassifier(boosting_type='gbdt',\n",
       "                                            class_weight=None,\n",
       "                                            colsample_bytree=1.0,\n",
       "                                            importance_type='split',\n",
       "                                            learning_rate=0.1, max_depth=-1,\n",
       "                                            min_child_samples=20,\n",
       "                                            min_child_weight=0.001,\n",
       "                                            min_split_gain=0.0,\n",
       "                                            n_estimators=100, n_jobs=-1,\n",
       "                                            num_leaves=31, objective=None,\n",
       "                                            random_state=None, reg_alpha=0.0,\n",
       "                                            reg_lambda=0.0, seed...\n",
       "                   param_distributions={'bagging_fraction': [0.8, 0.85],\n",
       "                                        'boosting_type': ['dart'],\n",
       "                                        'feature_fraction': [0.8, 0.85],\n",
       "                                        'learning_rate': [0.05, 0.1, 0.2],\n",
       "                                        'max_depth': [-1, 30, 35, 40],\n",
       "                                        'metric': ['auc'],\n",
       "                                        'min_data': [35, 40, 45],\n",
       "                                        'n_estimators': [70, 80, 90, 100],\n",
       "                                        'num_leaves': [23, 25, 27],\n",
       "                                        'objective': ['binary']},\n",
       "                   pre_dispatch='2*n_jobs', random_state=42, refit=True,\n",
       "                   return_train_score=False, scoring='roc_auc', verbose=2)"
      ]
     },
     "execution_count": 65,
     "metadata": {},
     "output_type": "execute_result"
    }
   ],
   "source": [
    "# Note: Parameters for random search have been already \"tuned\" by me after running multiple trainings\n",
    "# It allowed me to narrow down the parameters space\n",
    "\n",
    "param_distributions = {\n",
    "    'boosting_type': ['dart'],\n",
    "    'num_leaves': [23, 25, 27],\n",
    "    'max_depth': [-1, 30, 35, 40],\n",
    "    'learning_rate': [0.05, 0.1, 0.2],\n",
    "    'n_estimators': [70, 80, 90, 100],\n",
    "    'objective': ['binary'],\n",
    "    'min_data': [35, 40, 45],\n",
    "    'feature_fraction': [0.8, 0.85],\n",
    "    'bagging_fraction': [0.8, 0.85],\n",
    "    'metric': ['auc'],\n",
    "}\n",
    "\n",
    "lgbm_random_search_params = random_search_params.copy()\n",
    "lgbm_random_search_params['n_iter'] = 1000\n",
    "\n",
    "lgbm_dart_random_search = RandomizedSearchCV(estimator=lgbm.LGBMClassifier(**fixed_params),\n",
    "                                        param_distributions=param_distributions,\n",
    "                                        **lgbm_random_search_params)\n",
    "lgbm_dart_random_search.fit(X_train, y_train)"
   ]
  },
  {
   "cell_type": "code",
   "execution_count": 71,
   "metadata": {},
   "outputs": [
    {
     "name": "stdout",
     "output_type": "stream",
     "text": [
      "{'objective': 'binary', 'num_leaves': 23, 'n_estimators': 70, 'min_data': 40, 'metric': 'auc', 'max_depth': 30, 'learning_rate': 0.1, 'feature_fraction': 0.85, 'boosting_type': 'dart', 'bagging_fraction': 0.85}\n",
      "\n",
      "cross-validation scores (roc_auc) train dataset:\n",
      " [0.79818666 0.79702478 0.80996006] \n",
      "\n",
      "Roc \n",
      "         Train: 0.83\n",
      "         Test: 0.79\n",
      "         \n"
     ]
    }
   ],
   "source": [
    "print(lgbm_dart_random_search.best_params_)\n",
    "evaluate_model(lgbm_dart_random_search.best_estimator_)\n",
    "all_models['lgbm_dart_random_search'] = lgbm_dart_random_search.best_estimator_"
   ]
  },
  {
   "cell_type": "code",
   "execution_count": 72,
   "metadata": {},
   "outputs": [
    {
     "data": {
      "text/plain": [
       "<matplotlib.axes._subplots.AxesSubplot at 0x1a1c816908>"
      ]
     },
     "execution_count": 72,
     "metadata": {},
     "output_type": "execute_result"
    },
    {
     "data": {
      "image/png": "[encoded data removed]",
      "text/plain": [
       "<Figure size 432x288 with 1 Axes>"
      ]
     },
     "metadata": {
      "needs_background": "light"
     },
     "output_type": "display_data"
    }
   ],
   "source": [
    "lgbm.plot_importance(lgbm_dart_random_search.best_estimator_, max_num_features=10)"
   ]
  },
  {
   "cell_type": "code",
   "execution_count": 74,
   "metadata": {},
   "outputs": [
    {
     "name": "stdout",
     "output_type": "stream",
     "text": [
      "\n",
      "cross-validation scores (roc_auc) train dataset:\n",
      " [0.79773953 0.79282365 0.80768504] \n",
      "\n",
      "Roc \n",
      "         Train: 0.83\n",
      "         Test: 0.8\n",
      "         \n"
     ]
    }
   ],
   "source": [
    "lgbm_dart_fixed = lgbm.LGBMClassifier(**{'bagging_fraction': 0.8,\n",
    "                                         'boosting_type': 'dart',\n",
    "                                         'feature_fraction': 0.85,\n",
    "                                         'learning_rate': 0.05,\n",
    "                                         'max_depth': 8,\n",
    "                                         'metric': 'auc',\n",
    "                                         'min_data': 45,\n",
    "                                         'n_estimators': 70,\n",
    "                                         'num_leaves': 23,\n",
    "                                         'objective': 'binary'})\n",
    "lgbm_dart_fixed.fit(X_train, y_train)\n",
    "evaluate_model(lgbm_dart_fixed)"
   ]
  },
  {
   "cell_type": "markdown",
   "metadata": {},
   "source": [
    "### CatBoostClassifier"
   ]
  },
  {
   "cell_type": "code",
   "execution_count": 75,
   "metadata": {},
   "outputs": [
    {
     "name": "stdout",
     "output_type": "stream",
     "text": [
      "0:\ttotal: 123ms\tremaining: 2m 2s\n",
      "999:\ttotal: 35.2s\tremaining: 0us\n",
      "0:\ttotal: 42.7ms\tremaining: 42.7s\n",
      "999:\ttotal: 32.8s\tremaining: 0us\n",
      "0:\ttotal: 39.8ms\tremaining: 39.8s\n",
      "999:\ttotal: 31.1s\tremaining: 0us\n",
      "0:\ttotal: 38.5ms\tremaining: 38.5s\n",
      "999:\ttotal: 31.6s\tremaining: 0us\n",
      "\n",
      "cross-validation scores (roc_auc) train dataset:\n",
      " [0.7910473  0.78256709 0.80177259] \n",
      "\n",
      "Roc \n",
      "         Train: 0.81\n",
      "         Test: 0.79\n",
      "         \n"
     ]
    }
   ],
   "source": [
    "from catboost import CatBoostClassifier\n",
    "\n",
    "catboost_baseline = CatBoostClassifier(iterations=1000,\n",
    "                           eval_metric='AUC', \n",
    "                           learning_rate=0.001,\n",
    "                           depth=10,\n",
    "                           verbose=100000,\n",
    "                          )\n",
    "catboost_baseline.fit(X_train, y_train)\n",
    "evaluate_model(catboost_baseline)\n",
    "all_models['catboost_baseline'] = catboost_baseline"
   ]
  },
  {
   "cell_type": "markdown",
   "metadata": {},
   "source": [
    "# Summary"
   ]
  },
  {
   "cell_type": "code",
   "execution_count": 76,
   "metadata": {},
   "outputs": [
    {
     "name": "stdout",
     "output_type": "stream",
     "text": [
      "                         train results roc  test results roc\n",
      "adaboost_baseline                 0.797727          0.789922\n",
      "catboost_baseline                 0.811083          0.790643\n",
      "gbc_baseline                      0.816157          0.794319\n",
      "lgbm_baseline                     0.927207          0.781336\n",
      "lgbm_dart_random_search           0.832503          0.793250\n",
      "lgbm_gbdt_best                    0.835923          0.795277\n",
      "lgbm_gbdt_random_search           0.850376          0.794748\n",
      "rfc_baseline                      0.891220          0.786137\n",
      "xgb_clf_baseline                  0.828133          0.794756\n",
      "xgb_random_search                 0.851069          0.794617\n"
     ]
    },
    {
     "data": {
      "text/html": [
       "<div>\n",
       "<style scoped>\n",
       "    .dataframe tbody tr th:only-of-type {\n",
       "        vertical-align: middle;\n",
       "    }\n",
       "\n",
       "    .dataframe tbody tr th {\n",
       "        vertical-align: top;\n",
       "    }\n",
       "\n",
       "    .dataframe thead th {\n",
       "        text-align: right;\n",
       "    }\n",
       "</style>\n",
       "<table border=\"1\" class=\"dataframe\">\n",
       "  <thead>\n",
       "    <tr style=\"text-align: right;\">\n",
       "      <th></th>\n",
       "      <th>train results roc</th>\n",
       "      <th>test results roc</th>\n",
       "    </tr>\n",
       "  </thead>\n",
       "  <tbody>\n",
       "    <tr>\n",
       "      <th>adaboost_baseline</th>\n",
       "      <td>0.797727</td>\n",
       "      <td>0.789922</td>\n",
       "    </tr>\n",
       "    <tr>\n",
       "      <th>catboost_baseline</th>\n",
       "      <td>0.811083</td>\n",
       "      <td>0.790643</td>\n",
       "    </tr>\n",
       "    <tr>\n",
       "      <th>gbc_baseline</th>\n",
       "      <td>0.816157</td>\n",
       "      <td>0.794319</td>\n",
       "    </tr>\n",
       "    <tr>\n",
       "      <th>lgbm_baseline</th>\n",
       "      <td>0.927207</td>\n",
       "      <td>0.781336</td>\n",
       "    </tr>\n",
       "    <tr>\n",
       "      <th>lgbm_dart_random_search</th>\n",
       "      <td>0.832503</td>\n",
       "      <td>0.793250</td>\n",
       "    </tr>\n",
       "    <tr>\n",
       "      <th>lgbm_gbdt_best</th>\n",
       "      <td>0.835923</td>\n",
       "      <td>0.795277</td>\n",
       "    </tr>\n",
       "    <tr>\n",
       "      <th>lgbm_gbdt_random_search</th>\n",
       "      <td>0.850376</td>\n",
       "      <td>0.794748</td>\n",
       "    </tr>\n",
       "    <tr>\n",
       "      <th>rfc_baseline</th>\n",
       "      <td>0.891220</td>\n",
       "      <td>0.786137</td>\n",
       "    </tr>\n",
       "    <tr>\n",
       "      <th>xgb_clf_baseline</th>\n",
       "      <td>0.828133</td>\n",
       "      <td>0.794756</td>\n",
       "    </tr>\n",
       "    <tr>\n",
       "      <th>xgb_random_search</th>\n",
       "      <td>0.851069</td>\n",
       "      <td>0.794617</td>\n",
       "    </tr>\n",
       "  </tbody>\n",
       "</table>\n",
       "</div>"
      ],
      "text/plain": [
       "                         train results roc  test results roc\n",
       "adaboost_baseline                 0.797727          0.789922\n",
       "catboost_baseline                 0.811083          0.790643\n",
       "gbc_baseline                      0.816157          0.794319\n",
       "lgbm_baseline                     0.927207          0.781336\n",
       "lgbm_dart_random_search           0.832503          0.793250\n",
       "lgbm_gbdt_best                    0.835923          0.795277\n",
       "lgbm_gbdt_random_search           0.850376          0.794748\n",
       "rfc_baseline                      0.891220          0.786137\n",
       "xgb_clf_baseline                  0.828133          0.794756\n",
       "xgb_random_search                 0.851069          0.794617"
      ]
     },
     "execution_count": 76,
     "metadata": {},
     "output_type": "execute_result"
    }
   ],
   "source": [
    "present_models(all_models)"
   ]
  },
  {
   "cell_type": "markdown",
   "metadata": {},
   "source": [
    "What else I've tried, although I've decided not to go down this path\n",
    "\n",
    "Models:\n",
    "- Neural Network MLP\n",
    "- AdaBoostClassifier\n",
    "- GradientBoostingClassifier\n",
    "- CatBoostClassifier\n",
    "\n",
    "Feature Engineering:\n",
    "- Mapping age into age range e.g. less_than_20, less_than_30 etc...\n",
    "- Mapping pdays into range e.g. less_than_5, less_than_10 etc..\n",
    "- Mapping campaign into range e.g. less_than_2, less_than_5 etc...\n",
    "- Other combinations"
   ]
  },
  {
   "cell_type": "code",
   "execution_count": 77,
   "metadata": {},
   "outputs": [
    {
     "name": "stderr",
     "output_type": "stream",
     "text": [
      "/usr/local/anaconda3/envs/ml/lib/python3.6/site-packages/sklearn/externals/joblib/__init__.py:15: FutureWarning: sklearn.externals.joblib is deprecated in 0.21 and will be removed in 0.23. Please import this functionality directly from joblib, which can be installed with: pip install joblib. If this warning is raised when loading pickled models, you may need to re-serialize those models with scikit-learn 0.21+.\n",
      "  warnings.warn(msg, category=FutureWarning)\n"
     ]
    }
   ],
   "source": [
    "save_models(all_models, './models_simpler')"
   ]
  },
  {
   "cell_type": "code",
   "execution_count": 78,
   "metadata": {},
   "outputs": [
    {
     "name": "stdout",
     "output_type": "stream",
     "text": [
      "lgbm_gbdt_best \n",
      " LGBMClassifier(bagging_fraction=0.85, boosting_type='gbdt', class_weight=None,\n",
      "               colsample_bytree=1.0, feature_fraction=0.85,\n",
      "               importance_type='split', learning_rate=0.01, max_depth=30,\n",
      "               metric='auc', min_child_samples=20, min_child_weight=0.001,\n",
      "               min_data=30, min_split_gain=0.0, n_estimators=200, n_jobs=-1,\n",
      "               num_leaves=25, objective='binary', random_state=None,\n",
      "               reg_alpha=0.0, reg_lambda=0.0, silent=True, subsample=1.0,\n",
      "               subsample_for_bin=200000, subsample_freq=0)\n",
      "xgb_clf_baseline \n",
      " XGBClassifier(base_score=0.5, booster='gbtree', colsample_bylevel=1,\n",
      "              colsample_bynode=1, colsample_bytree=1, gamma=0,\n",
      "              learning_rate=0.1, max_delta_step=0, max_depth=3,\n",
      "              min_child_weight=1, missing=None, n_estimators=100, n_jobs=1,\n",
      "              nthread=None, objective='binary:logistic', random_state=0,\n",
      "              reg_alpha=0, reg_lambda=1, scale_pos_weight=1, seed=None,\n",
      "              silent=None, subsample=1, verbosity=1)\n"
     ]
    }
   ],
   "source": [
    "name, model = get_best_model(all_models)\n",
    "print(name, '\\n', model)\n",
    "model.fit(X, y)\n",
    "make_predictions_for_submission(model, filename=name+'.csv')\n",
    "\n",
    "copy_all_models = all_models.copy()\n",
    "copy_all_models.pop(name)\n",
    "name, model = get_best_model(copy_all_models)\n",
    "print(name, '\\n', model)\n",
    "model.fit(X, y)\n",
    "make_predictions_for_submission(model, filename=name+'.csv')"
   ]
  }
 ],
 "metadata": {
  "kernelspec": {
   "display_name": "Python ml",
   "language": "python",
   "name": "ml"
  },
  "language_info": {
   "codemirror_mode": {
    "name": "ipython",
    "version": 3
   },
   "file_extension": ".py",
   "mimetype": "text/x-python",
   "name": "python",
   "nbconvert_exporter": "python",
   "pygments_lexer": "ipython3",
   "version": "3.6.9"
  }
 },
 "nbformat": 4,
 "nbformat_minor": 4
}
